{
 "cells": [
  {
   "cell_type": "code",
   "execution_count": 1,
   "id": "2087bae7",
   "metadata": {},
   "outputs": [],
   "source": [
    "import pandas as pd\n",
    "import numpy as np\n",
    "from sklearn.preprocessing import StandardScaler\n",
    "import matplotlib.pyplot as plt \n",
    "from sklearn.linear_model import LogisticRegression\n",
    "from sklearn.model_selection import train_test_split\n",
    "from statsmodels.stats.outliers_influence import variance_inflation_factor\n",
    "from sklearn.metrics import accuracy_score, confusion_matrix, roc_curve, roc_auc_score\n",
    "import seaborn as sns\n",
    "%matplotlib inline\n",
    "\n",
    "import warnings\n",
    "warnings.filterwarnings('ignore')"
   ]
  },
  {
   "cell_type": "code",
   "execution_count": 2,
   "id": "53173fa1",
   "metadata": {},
   "outputs": [],
   "source": [
    "data=pd.read_csv('E:\\datascience\\weatherAUS.csv')"
   ]
  },
  {
   "cell_type": "code",
   "execution_count": 3,
   "id": "4509d877",
   "metadata": {},
   "outputs": [
    {
     "data": {
      "text/html": [
       "<div>\n",
       "<style scoped>\n",
       "    .dataframe tbody tr th:only-of-type {\n",
       "        vertical-align: middle;\n",
       "    }\n",
       "\n",
       "    .dataframe tbody tr th {\n",
       "        vertical-align: top;\n",
       "    }\n",
       "\n",
       "    .dataframe thead th {\n",
       "        text-align: right;\n",
       "    }\n",
       "</style>\n",
       "<table border=\"1\" class=\"dataframe\">\n",
       "  <thead>\n",
       "    <tr style=\"text-align: right;\">\n",
       "      <th></th>\n",
       "      <th>Date</th>\n",
       "      <th>Location</th>\n",
       "      <th>MinTemp</th>\n",
       "      <th>MaxTemp</th>\n",
       "      <th>Rainfall</th>\n",
       "      <th>Evaporation</th>\n",
       "      <th>Sunshine</th>\n",
       "      <th>WindGustDir</th>\n",
       "      <th>WindGustSpeed</th>\n",
       "      <th>WindDir9am</th>\n",
       "      <th>...</th>\n",
       "      <th>Humidity9am</th>\n",
       "      <th>Humidity3pm</th>\n",
       "      <th>Pressure9am</th>\n",
       "      <th>Pressure3pm</th>\n",
       "      <th>Cloud9am</th>\n",
       "      <th>Cloud3pm</th>\n",
       "      <th>Temp9am</th>\n",
       "      <th>Temp3pm</th>\n",
       "      <th>RainToday</th>\n",
       "      <th>RainTomorrow</th>\n",
       "    </tr>\n",
       "  </thead>\n",
       "  <tbody>\n",
       "    <tr>\n",
       "      <th>0</th>\n",
       "      <td>2008-12-01</td>\n",
       "      <td>Albury</td>\n",
       "      <td>13.4</td>\n",
       "      <td>22.9</td>\n",
       "      <td>0.6</td>\n",
       "      <td>NaN</td>\n",
       "      <td>NaN</td>\n",
       "      <td>W</td>\n",
       "      <td>44.0</td>\n",
       "      <td>W</td>\n",
       "      <td>...</td>\n",
       "      <td>71.0</td>\n",
       "      <td>22.0</td>\n",
       "      <td>1007.7</td>\n",
       "      <td>1007.1</td>\n",
       "      <td>8.0</td>\n",
       "      <td>NaN</td>\n",
       "      <td>16.9</td>\n",
       "      <td>21.8</td>\n",
       "      <td>No</td>\n",
       "      <td>No</td>\n",
       "    </tr>\n",
       "    <tr>\n",
       "      <th>1</th>\n",
       "      <td>2008-12-02</td>\n",
       "      <td>Albury</td>\n",
       "      <td>7.4</td>\n",
       "      <td>25.1</td>\n",
       "      <td>0.0</td>\n",
       "      <td>NaN</td>\n",
       "      <td>NaN</td>\n",
       "      <td>WNW</td>\n",
       "      <td>44.0</td>\n",
       "      <td>NNW</td>\n",
       "      <td>...</td>\n",
       "      <td>44.0</td>\n",
       "      <td>25.0</td>\n",
       "      <td>1010.6</td>\n",
       "      <td>1007.8</td>\n",
       "      <td>NaN</td>\n",
       "      <td>NaN</td>\n",
       "      <td>17.2</td>\n",
       "      <td>24.3</td>\n",
       "      <td>No</td>\n",
       "      <td>No</td>\n",
       "    </tr>\n",
       "    <tr>\n",
       "      <th>2</th>\n",
       "      <td>2008-12-03</td>\n",
       "      <td>Albury</td>\n",
       "      <td>12.9</td>\n",
       "      <td>25.7</td>\n",
       "      <td>0.0</td>\n",
       "      <td>NaN</td>\n",
       "      <td>NaN</td>\n",
       "      <td>WSW</td>\n",
       "      <td>46.0</td>\n",
       "      <td>W</td>\n",
       "      <td>...</td>\n",
       "      <td>38.0</td>\n",
       "      <td>30.0</td>\n",
       "      <td>1007.6</td>\n",
       "      <td>1008.7</td>\n",
       "      <td>NaN</td>\n",
       "      <td>2.0</td>\n",
       "      <td>21.0</td>\n",
       "      <td>23.2</td>\n",
       "      <td>No</td>\n",
       "      <td>No</td>\n",
       "    </tr>\n",
       "    <tr>\n",
       "      <th>3</th>\n",
       "      <td>2008-12-04</td>\n",
       "      <td>Albury</td>\n",
       "      <td>9.2</td>\n",
       "      <td>28.0</td>\n",
       "      <td>0.0</td>\n",
       "      <td>NaN</td>\n",
       "      <td>NaN</td>\n",
       "      <td>NE</td>\n",
       "      <td>24.0</td>\n",
       "      <td>SE</td>\n",
       "      <td>...</td>\n",
       "      <td>45.0</td>\n",
       "      <td>16.0</td>\n",
       "      <td>1017.6</td>\n",
       "      <td>1012.8</td>\n",
       "      <td>NaN</td>\n",
       "      <td>NaN</td>\n",
       "      <td>18.1</td>\n",
       "      <td>26.5</td>\n",
       "      <td>No</td>\n",
       "      <td>No</td>\n",
       "    </tr>\n",
       "    <tr>\n",
       "      <th>4</th>\n",
       "      <td>2008-12-05</td>\n",
       "      <td>Albury</td>\n",
       "      <td>17.5</td>\n",
       "      <td>32.3</td>\n",
       "      <td>1.0</td>\n",
       "      <td>NaN</td>\n",
       "      <td>NaN</td>\n",
       "      <td>W</td>\n",
       "      <td>41.0</td>\n",
       "      <td>ENE</td>\n",
       "      <td>...</td>\n",
       "      <td>82.0</td>\n",
       "      <td>33.0</td>\n",
       "      <td>1010.8</td>\n",
       "      <td>1006.0</td>\n",
       "      <td>7.0</td>\n",
       "      <td>8.0</td>\n",
       "      <td>17.8</td>\n",
       "      <td>29.7</td>\n",
       "      <td>No</td>\n",
       "      <td>No</td>\n",
       "    </tr>\n",
       "  </tbody>\n",
       "</table>\n",
       "<p>5 rows × 23 columns</p>\n",
       "</div>"
      ],
      "text/plain": [
       "         Date Location  MinTemp  MaxTemp  Rainfall  Evaporation  Sunshine  \\\n",
       "0  2008-12-01   Albury     13.4     22.9       0.6          NaN       NaN   \n",
       "1  2008-12-02   Albury      7.4     25.1       0.0          NaN       NaN   \n",
       "2  2008-12-03   Albury     12.9     25.7       0.0          NaN       NaN   \n",
       "3  2008-12-04   Albury      9.2     28.0       0.0          NaN       NaN   \n",
       "4  2008-12-05   Albury     17.5     32.3       1.0          NaN       NaN   \n",
       "\n",
       "  WindGustDir  WindGustSpeed WindDir9am  ... Humidity9am  Humidity3pm  \\\n",
       "0           W           44.0          W  ...        71.0         22.0   \n",
       "1         WNW           44.0        NNW  ...        44.0         25.0   \n",
       "2         WSW           46.0          W  ...        38.0         30.0   \n",
       "3          NE           24.0         SE  ...        45.0         16.0   \n",
       "4           W           41.0        ENE  ...        82.0         33.0   \n",
       "\n",
       "   Pressure9am  Pressure3pm  Cloud9am  Cloud3pm  Temp9am  Temp3pm  RainToday  \\\n",
       "0       1007.7       1007.1       8.0       NaN     16.9     21.8         No   \n",
       "1       1010.6       1007.8       NaN       NaN     17.2     24.3         No   \n",
       "2       1007.6       1008.7       NaN       2.0     21.0     23.2         No   \n",
       "3       1017.6       1012.8       NaN       NaN     18.1     26.5         No   \n",
       "4       1010.8       1006.0       7.0       8.0     17.8     29.7         No   \n",
       "\n",
       "   RainTomorrow  \n",
       "0            No  \n",
       "1            No  \n",
       "2            No  \n",
       "3            No  \n",
       "4            No  \n",
       "\n",
       "[5 rows x 23 columns]"
      ]
     },
     "execution_count": 3,
     "metadata": {},
     "output_type": "execute_result"
    }
   ],
   "source": [
    "data.head()"
   ]
  },
  {
   "cell_type": "code",
   "execution_count": 4,
   "id": "528c00da",
   "metadata": {},
   "outputs": [
    {
     "name": "stdout",
     "output_type": "stream",
     "text": [
      "<class 'pandas.core.frame.DataFrame'>\n",
      "RangeIndex: 8425 entries, 0 to 8424\n",
      "Data columns (total 23 columns):\n",
      " #   Column         Non-Null Count  Dtype  \n",
      "---  ------         --------------  -----  \n",
      " 0   Date           8425 non-null   object \n",
      " 1   Location       8425 non-null   object \n",
      " 2   MinTemp        8350 non-null   float64\n",
      " 3   MaxTemp        8365 non-null   float64\n",
      " 4   Rainfall       8185 non-null   float64\n",
      " 5   Evaporation    4913 non-null   float64\n",
      " 6   Sunshine       4431 non-null   float64\n",
      " 7   WindGustDir    7434 non-null   object \n",
      " 8   WindGustSpeed  7434 non-null   float64\n",
      " 9   WindDir9am     7596 non-null   object \n",
      " 10  WindDir3pm     8117 non-null   object \n",
      " 11  WindSpeed9am   8349 non-null   float64\n",
      " 12  WindSpeed3pm   8318 non-null   float64\n",
      " 13  Humidity9am    8366 non-null   float64\n",
      " 14  Humidity3pm    8323 non-null   float64\n",
      " 15  Pressure9am    7116 non-null   float64\n",
      " 16  Pressure3pm    7113 non-null   float64\n",
      " 17  Cloud9am       6004 non-null   float64\n",
      " 18  Cloud3pm       5970 non-null   float64\n",
      " 19  Temp9am        8369 non-null   float64\n",
      " 20  Temp3pm        8329 non-null   float64\n",
      " 21  RainToday      8185 non-null   object \n",
      " 22  RainTomorrow   8186 non-null   object \n",
      "dtypes: float64(16), object(7)\n",
      "memory usage: 1.5+ MB\n"
     ]
    }
   ],
   "source": [
    "data.info()"
   ]
  },
  {
   "cell_type": "code",
   "execution_count": 5,
   "id": "d21460a7",
   "metadata": {},
   "outputs": [],
   "source": [
    "data=data.drop(columns={'Date'})"
   ]
  },
  {
   "cell_type": "code",
   "execution_count": 6,
   "id": "ac2fc388",
   "metadata": {},
   "outputs": [],
   "source": [
    "data=data.replace({'Location':{'Adelaide':0,'Albury':1,'Brisbane':2,'CoffsHarbour':3,'Darwin':4,'Melbourne':5,'Newcastle':6,'Penrith':7,'PerthAirport':8,'Uluru':9,'Williamtown':10,'Wollongong':11}})"
   ]
  },
  {
   "cell_type": "code",
   "execution_count": 7,
   "id": "2d595e79",
   "metadata": {},
   "outputs": [],
   "source": [
    "data['MinTemp']=data['MinTemp'].fillna(data['MinTemp'].mode()[0])"
   ]
  },
  {
   "cell_type": "code",
   "execution_count": 8,
   "id": "4f359159",
   "metadata": {},
   "outputs": [],
   "source": [
    "data['MaxTemp']=data['MaxTemp'].fillna(data['MaxTemp'].mode()[0])"
   ]
  },
  {
   "cell_type": "code",
   "execution_count": 9,
   "id": "b2b98dc0",
   "metadata": {},
   "outputs": [],
   "source": [
    "data['Rainfall']=data['Rainfall'].fillna(data['Rainfall'].mode()[0])"
   ]
  },
  {
   "cell_type": "code",
   "execution_count": 10,
   "id": "c535f923",
   "metadata": {},
   "outputs": [],
   "source": [
    "data['Evaporation']=data['Evaporation'].fillna(data['Evaporation'].mode()[0])"
   ]
  },
  {
   "cell_type": "code",
   "execution_count": 11,
   "id": "2a42b61b",
   "metadata": {},
   "outputs": [],
   "source": [
    "data['Sunshine']=data['Sunshine'].fillna(data['Sunshine'].mode()[0])"
   ]
  },
  {
   "cell_type": "code",
   "execution_count": 12,
   "id": "c9112be7",
   "metadata": {},
   "outputs": [],
   "source": [
    "data['WindGustSpeed']=data['WindGustSpeed'].fillna(data['WindGustSpeed'].mode()[0])"
   ]
  },
  {
   "cell_type": "code",
   "execution_count": 13,
   "id": "bd1168e6",
   "metadata": {},
   "outputs": [],
   "source": [
    "data['WindGustDir']=data['WindGustDir'].fillna(data['WindGustDir'].mode()[0])"
   ]
  },
  {
   "cell_type": "code",
   "execution_count": 14,
   "id": "2ca481c2",
   "metadata": {},
   "outputs": [],
   "source": [
    "data['WindSpeed9am']=data['WindSpeed9am'].fillna(data['WindSpeed9am'].mode()[0])"
   ]
  },
  {
   "cell_type": "code",
   "execution_count": 15,
   "id": "20709668",
   "metadata": {},
   "outputs": [],
   "source": [
    "data['WindSpeed3pm']=data['WindSpeed3pm'].fillna(data['WindSpeed3pm'].mode()[0])"
   ]
  },
  {
   "cell_type": "code",
   "execution_count": 16,
   "id": "82b006bc",
   "metadata": {},
   "outputs": [],
   "source": [
    "data['WindDir9am']=data['WindDir9am'].fillna(data['WindDir9am'].mode()[0])"
   ]
  },
  {
   "cell_type": "code",
   "execution_count": 17,
   "id": "9fce6959",
   "metadata": {},
   "outputs": [],
   "source": [
    "data['WindDir3pm']=data['WindDir3pm'].fillna(data['WindDir3pm'].mode()[0])"
   ]
  },
  {
   "cell_type": "code",
   "execution_count": 18,
   "id": "e9a141ed",
   "metadata": {},
   "outputs": [],
   "source": [
    "data['Humidity9am']=data['Humidity9am'].fillna(data['Humidity9am'].mode()[0])"
   ]
  },
  {
   "cell_type": "code",
   "execution_count": 19,
   "id": "a1f5568d",
   "metadata": {},
   "outputs": [],
   "source": [
    "data['Humidity3pm']=data['Humidity3pm'].fillna(data['Humidity3pm'].mode()[0])"
   ]
  },
  {
   "cell_type": "code",
   "execution_count": 20,
   "id": "25bd9119",
   "metadata": {},
   "outputs": [],
   "source": [
    "data['Pressure9am']=data['Pressure9am'].fillna(data['Pressure9am'].mode()[0])"
   ]
  },
  {
   "cell_type": "code",
   "execution_count": 21,
   "id": "0a722bea",
   "metadata": {},
   "outputs": [],
   "source": [
    "data['Pressure3pm']=data['Pressure3pm'].fillna(data['Pressure3pm'].mode()[0])"
   ]
  },
  {
   "cell_type": "code",
   "execution_count": 22,
   "id": "090d3bfd",
   "metadata": {},
   "outputs": [],
   "source": [
    "data['Cloud9am']=data['Cloud9am'].fillna(data['Cloud9am'].mode()[0])"
   ]
  },
  {
   "cell_type": "code",
   "execution_count": 23,
   "id": "676c383e",
   "metadata": {},
   "outputs": [],
   "source": [
    "data['Cloud3pm']=data['Cloud3pm'].fillna(data['Cloud3pm'].mode()[0])"
   ]
  },
  {
   "cell_type": "code",
   "execution_count": 24,
   "id": "3ce3743a",
   "metadata": {},
   "outputs": [],
   "source": [
    "data['Temp9am']=data['Temp9am'].fillna(data['Temp9am'].mode()[0])"
   ]
  },
  {
   "cell_type": "code",
   "execution_count": 25,
   "id": "dd40e7b0",
   "metadata": {},
   "outputs": [],
   "source": [
    "data['Temp3pm']=data['Temp3pm'].fillna(data['Temp3pm'].mode()[0])"
   ]
  },
  {
   "cell_type": "code",
   "execution_count": 26,
   "id": "193e18b0",
   "metadata": {},
   "outputs": [],
   "source": [
    "data['RainToday']=data['RainToday'].fillna(data['RainToday'].mode()[0])"
   ]
  },
  {
   "cell_type": "code",
   "execution_count": 27,
   "id": "b1eaf914",
   "metadata": {},
   "outputs": [],
   "source": [
    "data['RainTomorrow']=data['RainTomorrow'].fillna(data['RainTomorrow'].mode()[0])"
   ]
  },
  {
   "cell_type": "code",
   "execution_count": 28,
   "id": "319773eb",
   "metadata": {},
   "outputs": [],
   "source": [
    "data=data.replace({'RainToday':{'No':0,'Yes':1}},{'RainTomorrow':{'No':0,'Yes':1}})"
   ]
  },
  {
   "cell_type": "code",
   "execution_count": 29,
   "id": "34b7587b",
   "metadata": {},
   "outputs": [],
   "source": [
    "data=data.replace({'WindGustDir':{'E':0,'ENE':1,'ESE':2,'N':3,'NE':4,'NNE':5,'NNW':6,'NW':7,'S':8,'SE':9,'SSE':10,'SW':11,'SSW':12,'W':13,'WNW':14,'WSW':15}})"
   ]
  },
  {
   "cell_type": "code",
   "execution_count": 30,
   "id": "6093460a",
   "metadata": {},
   "outputs": [],
   "source": [
    "data=data.replace({'WindDir9am':{'E':0,'ENE':1,'ESE':2,'N':3,'NE':4,'NNE':5,'NNW':6,'NW':7,'S':8,'SE':9,'SSE':10,'SW':11,'SSW':12,'W':13,'WNW':14,'WSW':15}})"
   ]
  },
  {
   "cell_type": "code",
   "execution_count": 31,
   "id": "c359a229",
   "metadata": {},
   "outputs": [],
   "source": [
    "data=data.replace({'WindDir3pm':{'E':0,'ENE':1,'ESE':2,'N':3,'NE':4,'NNE':5,'NNW':6,'NW':7,'S':8,'SE':9,'SSE':10,'SW':11,'SSW':12,'W':13,'WNW':14,'WSW':15}})"
   ]
  },
  {
   "cell_type": "code",
   "execution_count": 32,
   "id": "f4c59962",
   "metadata": {},
   "outputs": [],
   "source": [
    "data=data.replace({'RainTomorrow':{'Yes':0,'No':1}})"
   ]
  },
  {
   "cell_type": "code",
   "execution_count": 33,
   "id": "ae966b6d",
   "metadata": {},
   "outputs": [],
   "source": [
    "data=data.replace({'RainToday':{'Yes':0,'No':1}})"
   ]
  },
  {
   "cell_type": "code",
   "execution_count": 34,
   "id": "663cbd3b",
   "metadata": {},
   "outputs": [
    {
     "data": {
      "text/html": [
       "<div>\n",
       "<style scoped>\n",
       "    .dataframe tbody tr th:only-of-type {\n",
       "        vertical-align: middle;\n",
       "    }\n",
       "\n",
       "    .dataframe tbody tr th {\n",
       "        vertical-align: top;\n",
       "    }\n",
       "\n",
       "    .dataframe thead th {\n",
       "        text-align: right;\n",
       "    }\n",
       "</style>\n",
       "<table border=\"1\" class=\"dataframe\">\n",
       "  <thead>\n",
       "    <tr style=\"text-align: right;\">\n",
       "      <th></th>\n",
       "      <th>Location</th>\n",
       "      <th>MinTemp</th>\n",
       "      <th>MaxTemp</th>\n",
       "      <th>Rainfall</th>\n",
       "      <th>Evaporation</th>\n",
       "      <th>Sunshine</th>\n",
       "      <th>WindGustDir</th>\n",
       "      <th>WindGustSpeed</th>\n",
       "      <th>WindDir9am</th>\n",
       "      <th>WindDir3pm</th>\n",
       "      <th>...</th>\n",
       "      <th>Humidity9am</th>\n",
       "      <th>Humidity3pm</th>\n",
       "      <th>Pressure9am</th>\n",
       "      <th>Pressure3pm</th>\n",
       "      <th>Cloud9am</th>\n",
       "      <th>Cloud3pm</th>\n",
       "      <th>Temp9am</th>\n",
       "      <th>Temp3pm</th>\n",
       "      <th>RainToday</th>\n",
       "      <th>RainTomorrow</th>\n",
       "    </tr>\n",
       "  </thead>\n",
       "  <tbody>\n",
       "    <tr>\n",
       "      <th>count</th>\n",
       "      <td>8425.000000</td>\n",
       "      <td>8425.000000</td>\n",
       "      <td>8425.000000</td>\n",
       "      <td>8425.000000</td>\n",
       "      <td>8425.000000</td>\n",
       "      <td>8425.000000</td>\n",
       "      <td>8425.000000</td>\n",
       "      <td>8425.000000</td>\n",
       "      <td>8425.000000</td>\n",
       "      <td>8425.000000</td>\n",
       "      <td>...</td>\n",
       "      <td>8425.000000</td>\n",
       "      <td>8425.000000</td>\n",
       "      <td>8425.000000</td>\n",
       "      <td>8425.000000</td>\n",
       "      <td>8425.000000</td>\n",
       "      <td>8425.000000</td>\n",
       "      <td>8425.000000</td>\n",
       "      <td>8425.000000</td>\n",
       "      <td>8425.000000</td>\n",
       "      <td>8425.000000</td>\n",
       "    </tr>\n",
       "    <tr>\n",
       "      <th>mean</th>\n",
       "      <td>5.793591</td>\n",
       "      <td>13.182682</td>\n",
       "      <td>23.825365</td>\n",
       "      <td>2.725982</td>\n",
       "      <td>4.810220</td>\n",
       "      <td>4.014042</td>\n",
       "      <td>7.196914</td>\n",
       "      <td>40.036320</td>\n",
       "      <td>7.239288</td>\n",
       "      <td>7.795727</td>\n",
       "      <td>...</td>\n",
       "      <td>67.858754</td>\n",
       "      <td>51.295193</td>\n",
       "      <td>1017.198944</td>\n",
       "      <td>1015.635347</td>\n",
       "      <td>5.265875</td>\n",
       "      <td>5.230742</td>\n",
       "      <td>17.742326</td>\n",
       "      <td>22.405982</td>\n",
       "      <td>0.763798</td>\n",
       "      <td>0.763680</td>\n",
       "    </tr>\n",
       "    <tr>\n",
       "      <th>std</th>\n",
       "      <td>3.162654</td>\n",
       "      <td>5.380656</td>\n",
       "      <td>6.128159</td>\n",
       "      <td>10.319872</td>\n",
       "      <td>3.912448</td>\n",
       "      <td>4.744297</td>\n",
       "      <td>4.683505</td>\n",
       "      <td>13.781296</td>\n",
       "      <td>4.561930</td>\n",
       "      <td>4.417862</td>\n",
       "      <td>...</td>\n",
       "      <td>16.779787</td>\n",
       "      <td>18.316487</td>\n",
       "      <td>6.359552</td>\n",
       "      <td>6.286580</td>\n",
       "      <td>2.667166</td>\n",
       "      <td>2.564122</td>\n",
       "      <td>5.613463</td>\n",
       "      <td>5.955804</td>\n",
       "      <td>0.424773</td>\n",
       "      <td>0.424846</td>\n",
       "    </tr>\n",
       "    <tr>\n",
       "      <th>min</th>\n",
       "      <td>0.000000</td>\n",
       "      <td>-2.000000</td>\n",
       "      <td>8.200000</td>\n",
       "      <td>0.000000</td>\n",
       "      <td>0.000000</td>\n",
       "      <td>0.000000</td>\n",
       "      <td>0.000000</td>\n",
       "      <td>7.000000</td>\n",
       "      <td>0.000000</td>\n",
       "      <td>0.000000</td>\n",
       "      <td>...</td>\n",
       "      <td>10.000000</td>\n",
       "      <td>6.000000</td>\n",
       "      <td>989.800000</td>\n",
       "      <td>982.900000</td>\n",
       "      <td>0.000000</td>\n",
       "      <td>0.000000</td>\n",
       "      <td>1.900000</td>\n",
       "      <td>7.300000</td>\n",
       "      <td>0.000000</td>\n",
       "      <td>0.000000</td>\n",
       "    </tr>\n",
       "    <tr>\n",
       "      <th>25%</th>\n",
       "      <td>3.000000</td>\n",
       "      <td>9.300000</td>\n",
       "      <td>19.200000</td>\n",
       "      <td>0.000000</td>\n",
       "      <td>4.000000</td>\n",
       "      <td>0.000000</td>\n",
       "      <td>3.000000</td>\n",
       "      <td>31.000000</td>\n",
       "      <td>3.000000</td>\n",
       "      <td>4.000000</td>\n",
       "      <td>...</td>\n",
       "      <td>56.000000</td>\n",
       "      <td>39.000000</td>\n",
       "      <td>1014.000000</td>\n",
       "      <td>1011.400000</td>\n",
       "      <td>3.000000</td>\n",
       "      <td>3.000000</td>\n",
       "      <td>13.800000</td>\n",
       "      <td>18.100000</td>\n",
       "      <td>1.000000</td>\n",
       "      <td>1.000000</td>\n",
       "    </tr>\n",
       "    <tr>\n",
       "      <th>50%</th>\n",
       "      <td>6.000000</td>\n",
       "      <td>13.200000</td>\n",
       "      <td>23.200000</td>\n",
       "      <td>0.000000</td>\n",
       "      <td>4.000000</td>\n",
       "      <td>0.200000</td>\n",
       "      <td>7.000000</td>\n",
       "      <td>39.000000</td>\n",
       "      <td>7.000000</td>\n",
       "      <td>8.000000</td>\n",
       "      <td>...</td>\n",
       "      <td>68.000000</td>\n",
       "      <td>51.000000</td>\n",
       "      <td>1016.100000</td>\n",
       "      <td>1017.000000</td>\n",
       "      <td>7.000000</td>\n",
       "      <td>7.000000</td>\n",
       "      <td>17.700000</td>\n",
       "      <td>21.800000</td>\n",
       "      <td>1.000000</td>\n",
       "      <td>1.000000</td>\n",
       "    </tr>\n",
       "    <tr>\n",
       "      <th>75%</th>\n",
       "      <td>8.000000</td>\n",
       "      <td>17.300000</td>\n",
       "      <td>28.000000</td>\n",
       "      <td>0.800000</td>\n",
       "      <td>5.200000</td>\n",
       "      <td>8.900000</td>\n",
       "      <td>11.000000</td>\n",
       "      <td>48.000000</td>\n",
       "      <td>11.000000</td>\n",
       "      <td>11.000000</td>\n",
       "      <td>...</td>\n",
       "      <td>80.000000</td>\n",
       "      <td>63.000000</td>\n",
       "      <td>1021.300000</td>\n",
       "      <td>1018.800000</td>\n",
       "      <td>7.000000</td>\n",
       "      <td>7.000000</td>\n",
       "      <td>21.900000</td>\n",
       "      <td>26.300000</td>\n",
       "      <td>1.000000</td>\n",
       "      <td>1.000000</td>\n",
       "    </tr>\n",
       "    <tr>\n",
       "      <th>max</th>\n",
       "      <td>11.000000</td>\n",
       "      <td>28.500000</td>\n",
       "      <td>45.500000</td>\n",
       "      <td>371.000000</td>\n",
       "      <td>145.000000</td>\n",
       "      <td>13.900000</td>\n",
       "      <td>15.000000</td>\n",
       "      <td>107.000000</td>\n",
       "      <td>15.000000</td>\n",
       "      <td>15.000000</td>\n",
       "      <td>...</td>\n",
       "      <td>100.000000</td>\n",
       "      <td>99.000000</td>\n",
       "      <td>1039.000000</td>\n",
       "      <td>1036.000000</td>\n",
       "      <td>8.000000</td>\n",
       "      <td>8.000000</td>\n",
       "      <td>39.400000</td>\n",
       "      <td>44.100000</td>\n",
       "      <td>1.000000</td>\n",
       "      <td>1.000000</td>\n",
       "    </tr>\n",
       "  </tbody>\n",
       "</table>\n",
       "<p>8 rows × 22 columns</p>\n",
       "</div>"
      ],
      "text/plain": [
       "          Location      MinTemp      MaxTemp     Rainfall  Evaporation  \\\n",
       "count  8425.000000  8425.000000  8425.000000  8425.000000  8425.000000   \n",
       "mean      5.793591    13.182682    23.825365     2.725982     4.810220   \n",
       "std       3.162654     5.380656     6.128159    10.319872     3.912448   \n",
       "min       0.000000    -2.000000     8.200000     0.000000     0.000000   \n",
       "25%       3.000000     9.300000    19.200000     0.000000     4.000000   \n",
       "50%       6.000000    13.200000    23.200000     0.000000     4.000000   \n",
       "75%       8.000000    17.300000    28.000000     0.800000     5.200000   \n",
       "max      11.000000    28.500000    45.500000   371.000000   145.000000   \n",
       "\n",
       "          Sunshine  WindGustDir  WindGustSpeed   WindDir9am   WindDir3pm  ...  \\\n",
       "count  8425.000000  8425.000000    8425.000000  8425.000000  8425.000000  ...   \n",
       "mean      4.014042     7.196914      40.036320     7.239288     7.795727  ...   \n",
       "std       4.744297     4.683505      13.781296     4.561930     4.417862  ...   \n",
       "min       0.000000     0.000000       7.000000     0.000000     0.000000  ...   \n",
       "25%       0.000000     3.000000      31.000000     3.000000     4.000000  ...   \n",
       "50%       0.200000     7.000000      39.000000     7.000000     8.000000  ...   \n",
       "75%       8.900000    11.000000      48.000000    11.000000    11.000000  ...   \n",
       "max      13.900000    15.000000     107.000000    15.000000    15.000000  ...   \n",
       "\n",
       "       Humidity9am  Humidity3pm  Pressure9am  Pressure3pm     Cloud9am  \\\n",
       "count  8425.000000  8425.000000  8425.000000  8425.000000  8425.000000   \n",
       "mean     67.858754    51.295193  1017.198944  1015.635347     5.265875   \n",
       "std      16.779787    18.316487     6.359552     6.286580     2.667166   \n",
       "min      10.000000     6.000000   989.800000   982.900000     0.000000   \n",
       "25%      56.000000    39.000000  1014.000000  1011.400000     3.000000   \n",
       "50%      68.000000    51.000000  1016.100000  1017.000000     7.000000   \n",
       "75%      80.000000    63.000000  1021.300000  1018.800000     7.000000   \n",
       "max     100.000000    99.000000  1039.000000  1036.000000     8.000000   \n",
       "\n",
       "          Cloud3pm      Temp9am      Temp3pm    RainToday  RainTomorrow  \n",
       "count  8425.000000  8425.000000  8425.000000  8425.000000   8425.000000  \n",
       "mean      5.230742    17.742326    22.405982     0.763798      0.763680  \n",
       "std       2.564122     5.613463     5.955804     0.424773      0.424846  \n",
       "min       0.000000     1.900000     7.300000     0.000000      0.000000  \n",
       "25%       3.000000    13.800000    18.100000     1.000000      1.000000  \n",
       "50%       7.000000    17.700000    21.800000     1.000000      1.000000  \n",
       "75%       7.000000    21.900000    26.300000     1.000000      1.000000  \n",
       "max       8.000000    39.400000    44.100000     1.000000      1.000000  \n",
       "\n",
       "[8 rows x 22 columns]"
      ]
     },
     "execution_count": 34,
     "metadata": {},
     "output_type": "execute_result"
    }
   ],
   "source": [
    "data.describe()"
   ]
  },
  {
   "cell_type": "code",
   "execution_count": 35,
   "id": "9aca5229",
   "metadata": {},
   "outputs": [],
   "source": [
    "df_features=data.drop('RainTomorrow',axis=1)"
   ]
  },
  {
   "cell_type": "code",
   "execution_count": 36,
   "id": "ff3febab",
   "metadata": {},
   "outputs": [
    {
     "data": {
      "image/png": "[encoded data removed]",
      "text/plain": [
       "<Figure size 1080x3600 with 21 Axes>"
      ]
     },
     "metadata": {
      "needs_background": "light"
     },
     "output_type": "display_data"
    }
   ],
   "source": [
    "plt.figure(figsize=(15,50))\n",
    "graph=1\n",
    "\n",
    "for column in df_features:\n",
    "    if graph<=30:\n",
    "        ax=plt.subplot(10,3,graph)\n",
    "        sns.boxplot(df_features[column])\n",
    "        plt.xlabel(column,fontsize=10)\n",
    "        \n",
    "    graph+=1\n",
    "    \n",
    "plt.show()"
   ]
  },
  {
   "cell_type": "code",
   "execution_count": 37,
   "id": "3d64b3df",
   "metadata": {},
   "outputs": [],
   "source": [
    "q1=data.quantile(0.25)"
   ]
  },
  {
   "cell_type": "code",
   "execution_count": 38,
   "id": "770572ff",
   "metadata": {},
   "outputs": [],
   "source": [
    "q3=data.quantile(0.75)"
   ]
  },
  {
   "cell_type": "code",
   "execution_count": 39,
   "id": "3be80bd3",
   "metadata": {},
   "outputs": [],
   "source": [
    "iqr=q3-q1"
   ]
  },
  {
   "cell_type": "code",
   "execution_count": 40,
   "id": "c198161d",
   "metadata": {},
   "outputs": [
    {
     "data": {
      "text/plain": [
       "15.5"
      ]
     },
     "execution_count": 40,
     "metadata": {},
     "output_type": "execute_result"
    }
   ],
   "source": [
    "loc_high=(q3.Location+(1.5*iqr.Location))\n",
    "loc_high"
   ]
  },
  {
   "cell_type": "code",
   "execution_count": 41,
   "id": "1f9e2d3f",
   "metadata": {},
   "outputs": [
    {
     "data": {
      "text/plain": [
       "(array([], dtype=int64),)"
      ]
     },
     "execution_count": 41,
     "metadata": {},
     "output_type": "execute_result"
    }
   ],
   "source": [
    "index=np.where(data['Location']>loc_high)\n",
    "index"
   ]
  },
  {
   "cell_type": "code",
   "execution_count": 42,
   "id": "417081f8",
   "metadata": {},
   "outputs": [
    {
     "data": {
      "text/plain": [
       "29.3"
      ]
     },
     "execution_count": 42,
     "metadata": {},
     "output_type": "execute_result"
    }
   ],
   "source": [
    "min_high=(q3.MinTemp+(1.5*iqr.MinTemp))\n",
    "min_high"
   ]
  },
  {
   "cell_type": "code",
   "execution_count": 43,
   "id": "f91442f3",
   "metadata": {},
   "outputs": [
    {
     "data": {
      "text/plain": [
       "(array([], dtype=int64),)"
      ]
     },
     "execution_count": 43,
     "metadata": {},
     "output_type": "execute_result"
    }
   ],
   "source": [
    "index=np.where(data['MinTemp']>min_high)\n",
    "index"
   ]
  },
  {
   "cell_type": "code",
   "execution_count": 44,
   "id": "aec011db",
   "metadata": {},
   "outputs": [
    {
     "data": {
      "text/plain": [
       "41.2"
      ]
     },
     "execution_count": 44,
     "metadata": {},
     "output_type": "execute_result"
    }
   ],
   "source": [
    "max_high=(q3.MaxTemp+(1.5*iqr.MaxTemp))\n",
    "max_high"
   ]
  },
  {
   "cell_type": "code",
   "execution_count": 45,
   "id": "73693bbb",
   "metadata": {},
   "outputs": [
    {
     "data": {
      "text/plain": [
       "(array([  44,   59,   60,   61,   62,   67,   68,  405,  406,  407,  417,\n",
       "        2527, 2859, 3271, 3277, 3278, 3284, 3291, 3301, 3302, 3711, 4123,\n",
       "        4129, 4130, 4136, 4143, 4153, 4154, 4618, 5429, 6994, 7326, 7983,\n",
       "        7984], dtype=int64),)"
      ]
     },
     "execution_count": 45,
     "metadata": {},
     "output_type": "execute_result"
    }
   ],
   "source": [
    "index=np.where(data['MaxTemp']>max_high)\n",
    "index"
   ]
  },
  {
   "cell_type": "code",
   "execution_count": 46,
   "id": "f1f76f8e",
   "metadata": {},
   "outputs": [],
   "source": [
    "data=data.drop(data.index[index])"
   ]
  },
  {
   "cell_type": "code",
   "execution_count": 47,
   "id": "f27eb0a2",
   "metadata": {},
   "outputs": [
    {
     "data": {
      "text/plain": [
       "(8391, 22)"
      ]
     },
     "execution_count": 47,
     "metadata": {},
     "output_type": "execute_result"
    }
   ],
   "source": [
    "data.shape"
   ]
  },
  {
   "cell_type": "code",
   "execution_count": 48,
   "id": "172ffd1a",
   "metadata": {},
   "outputs": [
    {
     "data": {
      "text/plain": [
       "2.0"
      ]
     },
     "execution_count": 48,
     "metadata": {},
     "output_type": "execute_result"
    }
   ],
   "source": [
    "rain_high=(q3.Rainfall+(1.5*iqr.Rainfall))\n",
    "rain_high"
   ]
  },
  {
   "cell_type": "code",
   "execution_count": 49,
   "id": "43b446a6",
   "metadata": {},
   "outputs": [
    {
     "data": {
      "text/plain": [
       "(array([  11,   12,   13, ..., 8344, 8347, 8349], dtype=int64),)"
      ]
     },
     "execution_count": 49,
     "metadata": {},
     "output_type": "execute_result"
    }
   ],
   "source": [
    "index=np.where(data['Rainfall']>rain_high)\n",
    "index"
   ]
  },
  {
   "cell_type": "code",
   "execution_count": 50,
   "id": "a372d389",
   "metadata": {},
   "outputs": [
    {
     "data": {
      "text/plain": [
       "(6756, 22)"
      ]
     },
     "execution_count": 50,
     "metadata": {},
     "output_type": "execute_result"
    }
   ],
   "source": [
    "data=data.drop(data.index[index])\n",
    "data.shape"
   ]
  },
  {
   "cell_type": "code",
   "execution_count": 51,
   "id": "e9acf687",
   "metadata": {},
   "outputs": [
    {
     "data": {
      "text/plain": [
       "7.0"
      ]
     },
     "execution_count": 51,
     "metadata": {},
     "output_type": "execute_result"
    }
   ],
   "source": [
    "eva_high=(q3.Evaporation+(1.5*iqr.Evaporation))\n",
    "eva_high"
   ]
  },
  {
   "cell_type": "code",
   "execution_count": 52,
   "id": "30440c16",
   "metadata": {},
   "outputs": [
    {
     "data": {
      "text/plain": [
       "(array([ 891,  901,  905, ..., 6707, 6711, 6713], dtype=int64),)"
      ]
     },
     "execution_count": 52,
     "metadata": {},
     "output_type": "execute_result"
    }
   ],
   "source": [
    "index=np.where(data['Evaporation']>eva_high)\n",
    "index"
   ]
  },
  {
   "cell_type": "code",
   "execution_count": 53,
   "id": "fca51372",
   "metadata": {},
   "outputs": [
    {
     "data": {
      "text/plain": [
       "(5699, 22)"
      ]
     },
     "execution_count": 53,
     "metadata": {},
     "output_type": "execute_result"
    }
   ],
   "source": [
    "data=data.drop(data.index[index])\n",
    "data.shape"
   ]
  },
  {
   "cell_type": "code",
   "execution_count": 54,
   "id": "05cf1b22",
   "metadata": {},
   "outputs": [
    {
     "data": {
      "text/plain": [
       "22.25"
      ]
     },
     "execution_count": 54,
     "metadata": {},
     "output_type": "execute_result"
    }
   ],
   "source": [
    "sun_high=(q3.Sunshine+(1.5*iqr.Sunshine))\n",
    "sun_high\n",
    "          "
   ]
  },
  {
   "cell_type": "code",
   "execution_count": 55,
   "id": "6b1323c8",
   "metadata": {},
   "outputs": [
    {
     "data": {
      "text/plain": [
       "(array([], dtype=int64),)"
      ]
     },
     "execution_count": 55,
     "metadata": {},
     "output_type": "execute_result"
    }
   ],
   "source": [
    "index=np.where(data['Sunshine']>sun_high)\n",
    "index"
   ]
  },
  {
   "cell_type": "code",
   "execution_count": 56,
   "id": "b663fd48",
   "metadata": {},
   "outputs": [
    {
     "data": {
      "text/plain": [
       "73.5"
      ]
     },
     "execution_count": 56,
     "metadata": {},
     "output_type": "execute_result"
    }
   ],
   "source": [
    "win_high=(q3.WindGustSpeed+(1.5*iqr.WindGustSpeed))\n",
    "win_high"
   ]
  },
  {
   "cell_type": "code",
   "execution_count": 57,
   "id": "cd7308b9",
   "metadata": {},
   "outputs": [
    {
     "data": {
      "text/plain": [
       "(array([   8,   46,  217,  292,  296,  314,  608, 1107, 1861, 1970, 1975,\n",
       "        1989, 1996, 2015, 2028, 2338, 2350, 2357, 2366, 2368, 2377, 2380,\n",
       "        2381, 2389, 2392, 2424, 2434, 2452, 2469, 2524, 2546, 2616, 2646,\n",
       "        2654, 2670, 2723, 2724, 2741, 2742, 2746, 2759, 2760, 2912, 2924,\n",
       "        2931, 2940, 2942, 2951, 2954, 2955, 2963, 2966, 2998, 3008, 3026,\n",
       "        3043, 3098, 3120, 3190, 3220, 3228, 3244, 3297, 3298, 3315, 3316,\n",
       "        3320, 3333, 3334, 3371, 3372, 3430, 3438, 3483, 3517, 3524, 3525,\n",
       "        3535, 3559, 3562, 3574, 3621, 3746, 3758, 3791, 3792, 3807, 3809,\n",
       "        3818, 3820, 3826, 3883, 3892, 3899, 3900, 3958, 3966, 4011, 4045,\n",
       "        4052, 4053, 4063, 4087, 4090, 4102, 4149, 4274, 4286, 4319, 4320,\n",
       "        4335, 4337, 4346, 4348, 4354, 4411, 4420, 4832, 4887, 5031, 5219,\n",
       "        5231, 5387, 5406, 5434], dtype=int64),)"
      ]
     },
     "execution_count": 57,
     "metadata": {},
     "output_type": "execute_result"
    }
   ],
   "source": [
    "index=np.where(data['WindGustSpeed']>win_high)\n",
    "index"
   ]
  },
  {
   "cell_type": "code",
   "execution_count": 58,
   "id": "a0c9368d",
   "metadata": {},
   "outputs": [
    {
     "data": {
      "text/plain": [
       "(5574, 22)"
      ]
     },
     "execution_count": 58,
     "metadata": {},
     "output_type": "execute_result"
    }
   ],
   "source": [
    "data=data.drop(data.index[index])\n",
    "data.shape"
   ]
  },
  {
   "cell_type": "code",
   "execution_count": 59,
   "id": "81457454",
   "metadata": {},
   "outputs": [
    {
     "data": {
      "text/plain": [
       "41.0"
      ]
     },
     "execution_count": 59,
     "metadata": {},
     "output_type": "execute_result"
    }
   ],
   "source": [
    "winspeed_high=(q3.WindSpeed9am+(1.5*iqr.WindSpeed9am))\n",
    "winspeed_high"
   ]
  },
  {
   "cell_type": "code",
   "execution_count": 60,
   "id": "fa28124b",
   "metadata": {},
   "outputs": [
    {
     "data": {
      "text/plain": [
       "(array([1488, 1526, 1574, 1624, 1704, 1727, 2396, 2406, 2584, 2943, 2953,\n",
       "        3131, 3319, 3497, 3521, 3554, 3639, 3667, 3692, 3693, 3694, 3696,\n",
       "        3712, 3729, 3732, 3735, 3736, 3763, 3776, 3823, 4001, 4025, 4058,\n",
       "        4143, 4171, 4196, 4197, 4198, 4200, 4216, 4233, 4236, 4239, 4240,\n",
       "        4267, 4280], dtype=int64),)"
      ]
     },
     "execution_count": 60,
     "metadata": {},
     "output_type": "execute_result"
    }
   ],
   "source": [
    "index=np.where(data['WindSpeed9am']>winspeed_high)\n",
    "index"
   ]
  },
  {
   "cell_type": "code",
   "execution_count": 61,
   "id": "60cf18c4",
   "metadata": {},
   "outputs": [
    {
     "data": {
      "text/plain": [
       "(5528, 22)"
      ]
     },
     "execution_count": 61,
     "metadata": {},
     "output_type": "execute_result"
    }
   ],
   "source": [
    "data=data.drop(data.index[index])\n",
    "data.shape"
   ]
  },
  {
   "cell_type": "code",
   "execution_count": 62,
   "id": "1b21df65",
   "metadata": {},
   "outputs": [
    {
     "data": {
      "text/plain": [
       "43.5"
      ]
     },
     "execution_count": 62,
     "metadata": {},
     "output_type": "execute_result"
    }
   ],
   "source": [
    "winspeed3_high=(q3.WindSpeed3pm+(1.5*iqr.WindSpeed3pm))\n",
    "winspeed3_high"
   ]
  },
  {
   "cell_type": "code",
   "execution_count": 63,
   "id": "32d6b25d",
   "metadata": {},
   "outputs": [
    {
     "data": {
      "text/plain": [
       "(array([ 889,  928,  940, 1222, 1260, 1269, 1272, 1275, 1295, 1296, 1483,\n",
       "        1583, 1597, 1617, 1729, 1788, 2420, 2494, 2583, 2594, 2603, 2703,\n",
       "        2742, 2964, 3038, 3127, 3138, 3147, 3247, 3286, 3303, 3475, 3575,\n",
       "        3790, 3962, 4062], dtype=int64),)"
      ]
     },
     "execution_count": 63,
     "metadata": {},
     "output_type": "execute_result"
    }
   ],
   "source": [
    "index=np.where(data['WindSpeed3pm']>winspeed3_high)\n",
    "index"
   ]
  },
  {
   "cell_type": "code",
   "execution_count": 64,
   "id": "a7982d10",
   "metadata": {},
   "outputs": [
    {
     "data": {
      "text/plain": [
       "(5492, 22)"
      ]
     },
     "execution_count": 64,
     "metadata": {},
     "output_type": "execute_result"
    }
   ],
   "source": [
    "data=data.drop(data.index[index])\n",
    "data.shape"
   ]
  },
  {
   "cell_type": "code",
   "execution_count": 65,
   "id": "7f587d98",
   "metadata": {},
   "outputs": [
    {
     "data": {
      "text/plain": [
       "20.0"
      ]
     },
     "execution_count": 65,
     "metadata": {},
     "output_type": "execute_result"
    }
   ],
   "source": [
    "hum_low=(q1.Humidity9am-(1.5*iqr.Humidity9am))\n",
    "hum_low"
   ]
  },
  {
   "cell_type": "code",
   "execution_count": 66,
   "id": "55f393e0",
   "metadata": {},
   "outputs": [
    {
     "data": {
      "text/plain": [
       "(array([4696, 4697, 4706, 4712, 4725, 5032], dtype=int64),)"
      ]
     },
     "execution_count": 66,
     "metadata": {},
     "output_type": "execute_result"
    }
   ],
   "source": [
    "index=np.where(data['Humidity9am']<hum_low)\n",
    "index"
   ]
  },
  {
   "cell_type": "code",
   "execution_count": 67,
   "id": "c61e5e7f",
   "metadata": {},
   "outputs": [
    {
     "data": {
      "text/plain": [
       "(5486, 22)"
      ]
     },
     "execution_count": 67,
     "metadata": {},
     "output_type": "execute_result"
    }
   ],
   "source": [
    "data=data.drop(data.index[index])\n",
    "data.shape"
   ]
  },
  {
   "cell_type": "code",
   "execution_count": 68,
   "id": "b26c7136",
   "metadata": {},
   "outputs": [
    {
     "data": {
      "text/plain": [
       "116.0"
      ]
     },
     "execution_count": 68,
     "metadata": {},
     "output_type": "execute_result"
    }
   ],
   "source": [
    "hum_high=(q3.Humidity9am+(1.5*iqr.Humidity9am))\n",
    "hum_high"
   ]
  },
  {
   "cell_type": "code",
   "execution_count": 69,
   "id": "1b7292f4",
   "metadata": {},
   "outputs": [
    {
     "data": {
      "text/plain": [
       "(array([], dtype=int64),)"
      ]
     },
     "execution_count": 69,
     "metadata": {},
     "output_type": "execute_result"
    }
   ],
   "source": [
    "index=np.where(data['Humidity9am']>hum_high)\n",
    "index"
   ]
  },
  {
   "cell_type": "code",
   "execution_count": 70,
   "id": "b6002bb8",
   "metadata": {},
   "outputs": [
    {
     "data": {
      "text/plain": [
       "1032.25"
      ]
     },
     "execution_count": 70,
     "metadata": {},
     "output_type": "execute_result"
    }
   ],
   "source": [
    "pres_high=(q3.Pressure9am+(1.5*iqr.Pressure9am))\n",
    "pres_high"
   ]
  },
  {
   "cell_type": "code",
   "execution_count": 71,
   "id": "73a1de83",
   "metadata": {},
   "outputs": [
    {
     "data": {
      "text/plain": [
       "(array([ 153,  376,  377,  458,  459,  463,  464,  465,  475,  489,  490,\n",
       "         493,  494,  697, 2320, 2321, 2322, 2339, 2682, 2857, 2858, 2859,\n",
       "        2876, 3219, 3323, 3324, 3325, 3396, 3400, 3401, 3402, 3422, 3423,\n",
       "        3424, 3426, 3427, 3618, 3619, 3620, 3631, 3653, 3654, 3655, 3807,\n",
       "        3808, 3809, 3880, 3884, 3885, 3886, 3906, 3907, 3908, 3910, 3911,\n",
       "        4102, 4103, 4104, 4115, 4137, 4138, 4139, 4598, 4599, 4600, 4621,\n",
       "        4624, 4633, 4634, 4635, 4636, 4637, 4641, 4642, 4643, 4644, 4797,\n",
       "        4799, 4800, 4801, 4836, 4837, 4838, 4839, 4840, 4938, 4939, 4940,\n",
       "        4956, 4957, 5125, 5126, 5149, 5150, 5165], dtype=int64),)"
      ]
     },
     "execution_count": 71,
     "metadata": {},
     "output_type": "execute_result"
    }
   ],
   "source": [
    "index=np.where(data['Pressure9am']>pres_high)\n",
    "index"
   ]
  },
  {
   "cell_type": "code",
   "execution_count": 72,
   "id": "88c1903b",
   "metadata": {},
   "outputs": [
    {
     "data": {
      "text/plain": [
       "(5391, 22)"
      ]
     },
     "execution_count": 72,
     "metadata": {},
     "output_type": "execute_result"
    }
   ],
   "source": [
    "data=data.drop(data.index[index])\n",
    "data.shape"
   ]
  },
  {
   "cell_type": "code",
   "execution_count": 73,
   "id": "555c719f",
   "metadata": {},
   "outputs": [
    {
     "data": {
      "text/plain": [
       "1003.0500000000001"
      ]
     },
     "execution_count": 73,
     "metadata": {},
     "output_type": "execute_result"
    }
   ],
   "source": [
    "press_low=(q1.Pressure9am-(1.5*iqr.Pressure9am))\n",
    "press_low"
   ]
  },
  {
   "cell_type": "code",
   "execution_count": 74,
   "id": "eafe10ed",
   "metadata": {},
   "outputs": [
    {
     "data": {
      "text/plain": [
       "(array([ 252,  618,  662,  866,  948, 2364, 2427, 2431, 2447, 2553, 2685,\n",
       "        2896, 2959, 2963, 2979, 3085, 3217, 3401, 3408, 3531, 3691, 3866,\n",
       "        3873, 3996, 4156, 4367, 4804], dtype=int64),)"
      ]
     },
     "execution_count": 74,
     "metadata": {},
     "output_type": "execute_result"
    }
   ],
   "source": [
    "index=np.where(data['Pressure9am']<press_low)\n",
    "index"
   ]
  },
  {
   "cell_type": "code",
   "execution_count": 78,
   "id": "0541a433",
   "metadata": {},
   "outputs": [
    {
     "data": {
      "text/plain": [
       "(5373, 22)"
      ]
     },
     "execution_count": 78,
     "metadata": {},
     "output_type": "execute_result"
    }
   ],
   "source": [
    "data=data.drop(data.index[index])\n",
    "data.shape"
   ]
  },
  {
   "cell_type": "code",
   "execution_count": 79,
   "id": "84a9d7b6",
   "metadata": {},
   "outputs": [
    {
     "data": {
      "text/plain": [
       "1029.8999999999999"
      ]
     },
     "execution_count": 79,
     "metadata": {},
     "output_type": "execute_result"
    }
   ],
   "source": [
    "pres3_high=(q3.Pressure3pm+(1.5*iqr.Pressure3pm))\n",
    "pres3_high"
   ]
  },
  {
   "cell_type": "code",
   "execution_count": 80,
   "id": "f43069dd",
   "metadata": {},
   "outputs": [
    {
     "data": {
      "text/plain": [
       "(array([], dtype=int64),)"
      ]
     },
     "execution_count": 80,
     "metadata": {},
     "output_type": "execute_result"
    }
   ],
   "source": [
    "index=np.where(data['Pressure3pm']>pres3_high)\n",
    "index"
   ]
  },
  {
   "cell_type": "code",
   "execution_count": 81,
   "id": "d89beed7",
   "metadata": {},
   "outputs": [
    {
     "data": {
      "text/plain": [
       "1000.3"
      ]
     },
     "execution_count": 81,
     "metadata": {},
     "output_type": "execute_result"
    }
   ],
   "source": [
    "pres3_low=(q1.Pressure3pm-(1.5*iqr.Pressure3pm))\n",
    "pres3_low"
   ]
  },
  {
   "cell_type": "code",
   "execution_count": 82,
   "id": "ce1079be",
   "metadata": {},
   "outputs": [
    {
     "data": {
      "text/plain": [
       "(array([ 251,  252,  877, 2246, 2360, 2381, 2427, 2443, 2777, 2891, 2912,\n",
       "        2958, 2974, 3400, 3467, 3680, 3860, 3927, 4140, 4174, 4350, 4351,\n",
       "        4537, 4788], dtype=int64),)"
      ]
     },
     "execution_count": 82,
     "metadata": {},
     "output_type": "execute_result"
    }
   ],
   "source": [
    "index=np.where(data['Pressure3pm']<pres3_low)\n",
    "index"
   ]
  },
  {
   "cell_type": "code",
   "execution_count": 83,
   "id": "608e9aca",
   "metadata": {},
   "outputs": [
    {
     "data": {
      "text/plain": [
       "(5349, 22)"
      ]
     },
     "execution_count": 83,
     "metadata": {},
     "output_type": "execute_result"
    }
   ],
   "source": [
    "data=data.drop(data.index[index])\n",
    "data.shape"
   ]
  },
  {
   "cell_type": "code",
   "execution_count": 84,
   "id": "5601bd69",
   "metadata": {},
   "outputs": [
    {
     "data": {
      "text/plain": [
       "34.05"
      ]
     },
     "execution_count": 84,
     "metadata": {},
     "output_type": "execute_result"
    }
   ],
   "source": [
    "tem_high=(q3.Temp9am+(1.5*iqr.Temp9am))\n",
    "tem_high"
   ]
  },
  {
   "cell_type": "code",
   "execution_count": 85,
   "id": "f34de8c4",
   "metadata": {},
   "outputs": [
    {
     "data": {
      "text/plain": [
       "(array([54], dtype=int64),)"
      ]
     },
     "execution_count": 85,
     "metadata": {},
     "output_type": "execute_result"
    }
   ],
   "source": [
    "index=np.where(data['Temp9am']>tem_high)\n",
    "index"
   ]
  },
  {
   "cell_type": "code",
   "execution_count": 87,
   "id": "4e38674d",
   "metadata": {},
   "outputs": [
    {
     "data": {
      "text/plain": [
       "(5348, 22)"
      ]
     },
     "execution_count": 87,
     "metadata": {},
     "output_type": "execute_result"
    }
   ],
   "source": [
    "data=data.drop(data.index[index])\n",
    "data.shape"
   ]
  },
  {
   "cell_type": "code",
   "execution_count": 88,
   "id": "ce988958",
   "metadata": {},
   "outputs": [
    {
     "data": {
      "text/plain": [
       "1.650000000000004"
      ]
     },
     "execution_count": 88,
     "metadata": {},
     "output_type": "execute_result"
    }
   ],
   "source": [
    "tem_low=(q1.Temp9am-(1.5*iqr.Temp9am))\n",
    "tem_low"
   ]
  },
  {
   "cell_type": "code",
   "execution_count": 89,
   "id": "6a49ef34",
   "metadata": {},
   "outputs": [
    {
     "data": {
      "text/plain": [
       "(array([], dtype=int64),)"
      ]
     },
     "execution_count": 89,
     "metadata": {},
     "output_type": "execute_result"
    }
   ],
   "source": [
    "index=np.where(data['Temp9am']<tem_low)\n",
    "index"
   ]
  },
  {
   "cell_type": "code",
   "execution_count": 90,
   "id": "2211839d",
   "metadata": {},
   "outputs": [
    {
     "data": {
      "text/plain": [
       "38.6"
      ]
     },
     "execution_count": 90,
     "metadata": {},
     "output_type": "execute_result"
    }
   ],
   "source": [
    "tem3_high=(q3.Temp3pm+(1.5*iqr.Temp3pm))\n",
    "tem3_high"
   ]
  },
  {
   "cell_type": "code",
   "execution_count": 91,
   "id": "95673011",
   "metadata": {},
   "outputs": [
    {
     "data": {
      "text/plain": [
       "(array([  49,   53,  284,  621, 1932, 1938, 2184, 2212, 2405, 2406, 2710,\n",
       "        2738, 2931, 2932], dtype=int64),)"
      ]
     },
     "execution_count": 91,
     "metadata": {},
     "output_type": "execute_result"
    }
   ],
   "source": [
    "index=np.where(data['Temp3pm']>tem3_high)\n",
    "index"
   ]
  },
  {
   "cell_type": "code",
   "execution_count": 92,
   "id": "9eef520a",
   "metadata": {},
   "outputs": [
    {
     "data": {
      "text/plain": [
       "(5334, 22)"
      ]
     },
     "execution_count": 92,
     "metadata": {},
     "output_type": "execute_result"
    }
   ],
   "source": [
    "data=data.drop(data.index[index])\n",
    "data.shape"
   ]
  },
  {
   "cell_type": "code",
   "execution_count": 93,
   "id": "50010399",
   "metadata": {},
   "outputs": [
    {
     "data": {
      "text/plain": [
       "5.8000000000000025"
      ]
     },
     "execution_count": 93,
     "metadata": {},
     "output_type": "execute_result"
    }
   ],
   "source": [
    "tem3_low=(q1.Temp3pm-(1.5*iqr.Temp3pm))\n",
    "tem3_low"
   ]
  },
  {
   "cell_type": "code",
   "execution_count": 94,
   "id": "9cd36614",
   "metadata": {},
   "outputs": [
    {
     "data": {
      "text/plain": [
       "(array([], dtype=int64),)"
      ]
     },
     "execution_count": 94,
     "metadata": {},
     "output_type": "execute_result"
    }
   ],
   "source": [
    "index=np.where(data['Temp3pm']<tem3_low)\n",
    "index"
   ]
  },
  {
   "cell_type": "code",
   "execution_count": 95,
   "id": "f90fe863",
   "metadata": {},
   "outputs": [
    {
     "data": {
      "text/plain": [
       "1.0"
      ]
     },
     "execution_count": 95,
     "metadata": {},
     "output_type": "execute_result"
    }
   ],
   "source": [
    "rain_high=(q3.RainToday+(1.5*iqr.RainToday))\n",
    "rain_high"
   ]
  },
  {
   "cell_type": "code",
   "execution_count": 96,
   "id": "900d3db8",
   "metadata": {},
   "outputs": [
    {
     "data": {
      "text/plain": [
       "(array([], dtype=int64),)"
      ]
     },
     "execution_count": 96,
     "metadata": {},
     "output_type": "execute_result"
    }
   ],
   "source": [
    "index=np.where(data['RainToday']>rain_high)\n",
    "index"
   ]
  },
  {
   "cell_type": "code",
   "execution_count": 97,
   "id": "0760e210",
   "metadata": {},
   "outputs": [
    {
     "data": {
      "text/plain": [
       "(5334, 22)"
      ]
     },
     "execution_count": 97,
     "metadata": {},
     "output_type": "execute_result"
    }
   ],
   "source": [
    "data.shape"
   ]
  },
  {
   "cell_type": "code",
   "execution_count": 98,
   "id": "d6961a9c",
   "metadata": {},
   "outputs": [],
   "source": [
    "x=data.drop(columns=['RainTomorrow'])\n",
    "y=data['RainTomorrow']"
   ]
  },
  {
   "cell_type": "code",
   "execution_count": 99,
   "id": "8e4b8e09",
   "metadata": {},
   "outputs": [
    {
     "data": {
      "text/html": [
       "<div>\n",
       "<style scoped>\n",
       "    .dataframe tbody tr th:only-of-type {\n",
       "        vertical-align: middle;\n",
       "    }\n",
       "\n",
       "    .dataframe tbody tr th {\n",
       "        vertical-align: top;\n",
       "    }\n",
       "\n",
       "    .dataframe thead th {\n",
       "        text-align: right;\n",
       "    }\n",
       "</style>\n",
       "<table border=\"1\" class=\"dataframe\">\n",
       "  <thead>\n",
       "    <tr style=\"text-align: right;\">\n",
       "      <th></th>\n",
       "      <th>Location</th>\n",
       "      <th>MinTemp</th>\n",
       "      <th>MaxTemp</th>\n",
       "      <th>Rainfall</th>\n",
       "      <th>Evaporation</th>\n",
       "      <th>Sunshine</th>\n",
       "      <th>WindGustDir</th>\n",
       "      <th>WindGustSpeed</th>\n",
       "      <th>WindDir9am</th>\n",
       "      <th>WindDir3pm</th>\n",
       "      <th>...</th>\n",
       "      <th>WindSpeed3pm</th>\n",
       "      <th>Humidity9am</th>\n",
       "      <th>Humidity3pm</th>\n",
       "      <th>Pressure9am</th>\n",
       "      <th>Pressure3pm</th>\n",
       "      <th>Cloud9am</th>\n",
       "      <th>Cloud3pm</th>\n",
       "      <th>Temp9am</th>\n",
       "      <th>Temp3pm</th>\n",
       "      <th>RainToday</th>\n",
       "    </tr>\n",
       "  </thead>\n",
       "  <tbody>\n",
       "    <tr>\n",
       "      <th>0</th>\n",
       "      <td>1</td>\n",
       "      <td>13.4</td>\n",
       "      <td>22.9</td>\n",
       "      <td>0.6</td>\n",
       "      <td>4.0</td>\n",
       "      <td>0.0</td>\n",
       "      <td>13</td>\n",
       "      <td>44.0</td>\n",
       "      <td>13</td>\n",
       "      <td>14</td>\n",
       "      <td>...</td>\n",
       "      <td>24.0</td>\n",
       "      <td>71.0</td>\n",
       "      <td>22.0</td>\n",
       "      <td>1007.7</td>\n",
       "      <td>1007.1</td>\n",
       "      <td>8.0</td>\n",
       "      <td>7.0</td>\n",
       "      <td>16.9</td>\n",
       "      <td>21.8</td>\n",
       "      <td>1</td>\n",
       "    </tr>\n",
       "    <tr>\n",
       "      <th>1</th>\n",
       "      <td>1</td>\n",
       "      <td>7.4</td>\n",
       "      <td>25.1</td>\n",
       "      <td>0.0</td>\n",
       "      <td>4.0</td>\n",
       "      <td>0.0</td>\n",
       "      <td>14</td>\n",
       "      <td>44.0</td>\n",
       "      <td>6</td>\n",
       "      <td>15</td>\n",
       "      <td>...</td>\n",
       "      <td>22.0</td>\n",
       "      <td>44.0</td>\n",
       "      <td>25.0</td>\n",
       "      <td>1010.6</td>\n",
       "      <td>1007.8</td>\n",
       "      <td>7.0</td>\n",
       "      <td>7.0</td>\n",
       "      <td>17.2</td>\n",
       "      <td>24.3</td>\n",
       "      <td>1</td>\n",
       "    </tr>\n",
       "    <tr>\n",
       "      <th>2</th>\n",
       "      <td>1</td>\n",
       "      <td>12.9</td>\n",
       "      <td>25.7</td>\n",
       "      <td>0.0</td>\n",
       "      <td>4.0</td>\n",
       "      <td>0.0</td>\n",
       "      <td>15</td>\n",
       "      <td>46.0</td>\n",
       "      <td>13</td>\n",
       "      <td>15</td>\n",
       "      <td>...</td>\n",
       "      <td>26.0</td>\n",
       "      <td>38.0</td>\n",
       "      <td>30.0</td>\n",
       "      <td>1007.6</td>\n",
       "      <td>1008.7</td>\n",
       "      <td>7.0</td>\n",
       "      <td>2.0</td>\n",
       "      <td>21.0</td>\n",
       "      <td>23.2</td>\n",
       "      <td>1</td>\n",
       "    </tr>\n",
       "    <tr>\n",
       "      <th>3</th>\n",
       "      <td>1</td>\n",
       "      <td>9.2</td>\n",
       "      <td>28.0</td>\n",
       "      <td>0.0</td>\n",
       "      <td>4.0</td>\n",
       "      <td>0.0</td>\n",
       "      <td>4</td>\n",
       "      <td>24.0</td>\n",
       "      <td>9</td>\n",
       "      <td>0</td>\n",
       "      <td>...</td>\n",
       "      <td>9.0</td>\n",
       "      <td>45.0</td>\n",
       "      <td>16.0</td>\n",
       "      <td>1017.6</td>\n",
       "      <td>1012.8</td>\n",
       "      <td>7.0</td>\n",
       "      <td>7.0</td>\n",
       "      <td>18.1</td>\n",
       "      <td>26.5</td>\n",
       "      <td>1</td>\n",
       "    </tr>\n",
       "    <tr>\n",
       "      <th>4</th>\n",
       "      <td>1</td>\n",
       "      <td>17.5</td>\n",
       "      <td>32.3</td>\n",
       "      <td>1.0</td>\n",
       "      <td>4.0</td>\n",
       "      <td>0.0</td>\n",
       "      <td>13</td>\n",
       "      <td>41.0</td>\n",
       "      <td>1</td>\n",
       "      <td>7</td>\n",
       "      <td>...</td>\n",
       "      <td>20.0</td>\n",
       "      <td>82.0</td>\n",
       "      <td>33.0</td>\n",
       "      <td>1010.8</td>\n",
       "      <td>1006.0</td>\n",
       "      <td>7.0</td>\n",
       "      <td>8.0</td>\n",
       "      <td>17.8</td>\n",
       "      <td>29.7</td>\n",
       "      <td>1</td>\n",
       "    </tr>\n",
       "    <tr>\n",
       "      <th>...</th>\n",
       "      <td>...</td>\n",
       "      <td>...</td>\n",
       "      <td>...</td>\n",
       "      <td>...</td>\n",
       "      <td>...</td>\n",
       "      <td>...</td>\n",
       "      <td>...</td>\n",
       "      <td>...</td>\n",
       "      <td>...</td>\n",
       "      <td>...</td>\n",
       "      <td>...</td>\n",
       "      <td>...</td>\n",
       "      <td>...</td>\n",
       "      <td>...</td>\n",
       "      <td>...</td>\n",
       "      <td>...</td>\n",
       "      <td>...</td>\n",
       "      <td>...</td>\n",
       "      <td>...</td>\n",
       "      <td>...</td>\n",
       "      <td>...</td>\n",
       "    </tr>\n",
       "    <tr>\n",
       "      <th>8420</th>\n",
       "      <td>9</td>\n",
       "      <td>2.8</td>\n",
       "      <td>23.4</td>\n",
       "      <td>0.0</td>\n",
       "      <td>4.0</td>\n",
       "      <td>0.0</td>\n",
       "      <td>0</td>\n",
       "      <td>31.0</td>\n",
       "      <td>9</td>\n",
       "      <td>1</td>\n",
       "      <td>...</td>\n",
       "      <td>11.0</td>\n",
       "      <td>51.0</td>\n",
       "      <td>24.0</td>\n",
       "      <td>1024.6</td>\n",
       "      <td>1020.3</td>\n",
       "      <td>7.0</td>\n",
       "      <td>7.0</td>\n",
       "      <td>10.1</td>\n",
       "      <td>22.4</td>\n",
       "      <td>1</td>\n",
       "    </tr>\n",
       "    <tr>\n",
       "      <th>8421</th>\n",
       "      <td>9</td>\n",
       "      <td>3.6</td>\n",
       "      <td>25.3</td>\n",
       "      <td>0.0</td>\n",
       "      <td>4.0</td>\n",
       "      <td>0.0</td>\n",
       "      <td>6</td>\n",
       "      <td>22.0</td>\n",
       "      <td>9</td>\n",
       "      <td>3</td>\n",
       "      <td>...</td>\n",
       "      <td>9.0</td>\n",
       "      <td>56.0</td>\n",
       "      <td>21.0</td>\n",
       "      <td>1023.5</td>\n",
       "      <td>1019.1</td>\n",
       "      <td>7.0</td>\n",
       "      <td>7.0</td>\n",
       "      <td>10.9</td>\n",
       "      <td>24.5</td>\n",
       "      <td>1</td>\n",
       "    </tr>\n",
       "    <tr>\n",
       "      <th>8422</th>\n",
       "      <td>9</td>\n",
       "      <td>5.4</td>\n",
       "      <td>26.9</td>\n",
       "      <td>0.0</td>\n",
       "      <td>4.0</td>\n",
       "      <td>0.0</td>\n",
       "      <td>3</td>\n",
       "      <td>37.0</td>\n",
       "      <td>9</td>\n",
       "      <td>14</td>\n",
       "      <td>...</td>\n",
       "      <td>9.0</td>\n",
       "      <td>53.0</td>\n",
       "      <td>24.0</td>\n",
       "      <td>1021.0</td>\n",
       "      <td>1016.8</td>\n",
       "      <td>7.0</td>\n",
       "      <td>7.0</td>\n",
       "      <td>12.5</td>\n",
       "      <td>26.1</td>\n",
       "      <td>1</td>\n",
       "    </tr>\n",
       "    <tr>\n",
       "      <th>8423</th>\n",
       "      <td>9</td>\n",
       "      <td>7.8</td>\n",
       "      <td>27.0</td>\n",
       "      <td>0.0</td>\n",
       "      <td>4.0</td>\n",
       "      <td>0.0</td>\n",
       "      <td>9</td>\n",
       "      <td>28.0</td>\n",
       "      <td>10</td>\n",
       "      <td>3</td>\n",
       "      <td>...</td>\n",
       "      <td>7.0</td>\n",
       "      <td>51.0</td>\n",
       "      <td>24.0</td>\n",
       "      <td>1019.4</td>\n",
       "      <td>1016.5</td>\n",
       "      <td>3.0</td>\n",
       "      <td>2.0</td>\n",
       "      <td>15.1</td>\n",
       "      <td>26.0</td>\n",
       "      <td>1</td>\n",
       "    </tr>\n",
       "    <tr>\n",
       "      <th>8424</th>\n",
       "      <td>9</td>\n",
       "      <td>14.9</td>\n",
       "      <td>19.0</td>\n",
       "      <td>0.0</td>\n",
       "      <td>4.0</td>\n",
       "      <td>0.0</td>\n",
       "      <td>3</td>\n",
       "      <td>39.0</td>\n",
       "      <td>2</td>\n",
       "      <td>2</td>\n",
       "      <td>...</td>\n",
       "      <td>17.0</td>\n",
       "      <td>62.0</td>\n",
       "      <td>36.0</td>\n",
       "      <td>1020.2</td>\n",
       "      <td>1017.9</td>\n",
       "      <td>8.0</td>\n",
       "      <td>8.0</td>\n",
       "      <td>15.0</td>\n",
       "      <td>20.9</td>\n",
       "      <td>1</td>\n",
       "    </tr>\n",
       "  </tbody>\n",
       "</table>\n",
       "<p>5334 rows × 21 columns</p>\n",
       "</div>"
      ],
      "text/plain": [
       "      Location  MinTemp  MaxTemp  Rainfall  Evaporation  Sunshine  \\\n",
       "0            1     13.4     22.9       0.6          4.0       0.0   \n",
       "1            1      7.4     25.1       0.0          4.0       0.0   \n",
       "2            1     12.9     25.7       0.0          4.0       0.0   \n",
       "3            1      9.2     28.0       0.0          4.0       0.0   \n",
       "4            1     17.5     32.3       1.0          4.0       0.0   \n",
       "...        ...      ...      ...       ...          ...       ...   \n",
       "8420         9      2.8     23.4       0.0          4.0       0.0   \n",
       "8421         9      3.6     25.3       0.0          4.0       0.0   \n",
       "8422         9      5.4     26.9       0.0          4.0       0.0   \n",
       "8423         9      7.8     27.0       0.0          4.0       0.0   \n",
       "8424         9     14.9     19.0       0.0          4.0       0.0   \n",
       "\n",
       "      WindGustDir  WindGustSpeed  WindDir9am  WindDir3pm  ...  WindSpeed3pm  \\\n",
       "0              13           44.0          13          14  ...          24.0   \n",
       "1              14           44.0           6          15  ...          22.0   \n",
       "2              15           46.0          13          15  ...          26.0   \n",
       "3               4           24.0           9           0  ...           9.0   \n",
       "4              13           41.0           1           7  ...          20.0   \n",
       "...           ...            ...         ...         ...  ...           ...   \n",
       "8420            0           31.0           9           1  ...          11.0   \n",
       "8421            6           22.0           9           3  ...           9.0   \n",
       "8422            3           37.0           9          14  ...           9.0   \n",
       "8423            9           28.0          10           3  ...           7.0   \n",
       "8424            3           39.0           2           2  ...          17.0   \n",
       "\n",
       "      Humidity9am  Humidity3pm  Pressure9am  Pressure3pm  Cloud9am  Cloud3pm  \\\n",
       "0            71.0         22.0       1007.7       1007.1       8.0       7.0   \n",
       "1            44.0         25.0       1010.6       1007.8       7.0       7.0   \n",
       "2            38.0         30.0       1007.6       1008.7       7.0       2.0   \n",
       "3            45.0         16.0       1017.6       1012.8       7.0       7.0   \n",
       "4            82.0         33.0       1010.8       1006.0       7.0       8.0   \n",
       "...           ...          ...          ...          ...       ...       ...   \n",
       "8420         51.0         24.0       1024.6       1020.3       7.0       7.0   \n",
       "8421         56.0         21.0       1023.5       1019.1       7.0       7.0   \n",
       "8422         53.0         24.0       1021.0       1016.8       7.0       7.0   \n",
       "8423         51.0         24.0       1019.4       1016.5       3.0       2.0   \n",
       "8424         62.0         36.0       1020.2       1017.9       8.0       8.0   \n",
       "\n",
       "      Temp9am  Temp3pm  RainToday  \n",
       "0        16.9     21.8          1  \n",
       "1        17.2     24.3          1  \n",
       "2        21.0     23.2          1  \n",
       "3        18.1     26.5          1  \n",
       "4        17.8     29.7          1  \n",
       "...       ...      ...        ...  \n",
       "8420     10.1     22.4          1  \n",
       "8421     10.9     24.5          1  \n",
       "8422     12.5     26.1          1  \n",
       "8423     15.1     26.0          1  \n",
       "8424     15.0     20.9          1  \n",
       "\n",
       "[5334 rows x 21 columns]"
      ]
     },
     "execution_count": 99,
     "metadata": {},
     "output_type": "execute_result"
    }
   ],
   "source": [
    "x"
   ]
  },
  {
   "cell_type": "code",
   "execution_count": 100,
   "id": "3c0d2d63",
   "metadata": {},
   "outputs": [
    {
     "data": {
      "text/plain": [
       "0       1\n",
       "1       1\n",
       "2       1\n",
       "3       1\n",
       "4       1\n",
       "       ..\n",
       "8420    1\n",
       "8421    1\n",
       "8422    1\n",
       "8423    1\n",
       "8424    1\n",
       "Name: RainTomorrow, Length: 5334, dtype: int64"
      ]
     },
     "execution_count": 100,
     "metadata": {},
     "output_type": "execute_result"
    }
   ],
   "source": [
    "y"
   ]
  },
  {
   "cell_type": "code",
   "execution_count": 101,
   "id": "326fe4f9",
   "metadata": {},
   "outputs": [],
   "source": [
    "scaler=StandardScaler()\n",
    "x_scaled=scaler.fit_transform(x)"
   ]
  },
  {
   "cell_type": "code",
   "execution_count": 104,
   "id": "cb0856f0",
   "metadata": {},
   "outputs": [],
   "source": [
    "vif=pd.DataFrame()\n",
    "vif[\"vif\"]=[variance_inflation_factor(x_scaled,i)for i in range(x_scaled.shape[1])]\n",
    "vif[\"Features\"]=x.columns"
   ]
  },
  {
   "cell_type": "code",
   "execution_count": 105,
   "id": "64917bac",
   "metadata": {},
   "outputs": [
    {
     "data": {
      "text/html": [
       "<div>\n",
       "<style scoped>\n",
       "    .dataframe tbody tr th:only-of-type {\n",
       "        vertical-align: middle;\n",
       "    }\n",
       "\n",
       "    .dataframe tbody tr th {\n",
       "        vertical-align: top;\n",
       "    }\n",
       "\n",
       "    .dataframe thead th {\n",
       "        text-align: right;\n",
       "    }\n",
       "</style>\n",
       "<table border=\"1\" class=\"dataframe\">\n",
       "  <thead>\n",
       "    <tr style=\"text-align: right;\">\n",
       "      <th></th>\n",
       "      <th>vif</th>\n",
       "      <th>Features</th>\n",
       "    </tr>\n",
       "  </thead>\n",
       "  <tbody>\n",
       "    <tr>\n",
       "      <th>0</th>\n",
       "      <td>1.228356</td>\n",
       "      <td>Location</td>\n",
       "    </tr>\n",
       "    <tr>\n",
       "      <th>1</th>\n",
       "      <td>7.684290</td>\n",
       "      <td>MinTemp</td>\n",
       "    </tr>\n",
       "    <tr>\n",
       "      <th>2</th>\n",
       "      <td>20.500980</td>\n",
       "      <td>MaxTemp</td>\n",
       "    </tr>\n",
       "    <tr>\n",
       "      <th>3</th>\n",
       "      <td>4.648081</td>\n",
       "      <td>Rainfall</td>\n",
       "    </tr>\n",
       "    <tr>\n",
       "      <th>4</th>\n",
       "      <td>1.274366</td>\n",
       "      <td>Evaporation</td>\n",
       "    </tr>\n",
       "    <tr>\n",
       "      <th>5</th>\n",
       "      <td>2.023979</td>\n",
       "      <td>Sunshine</td>\n",
       "    </tr>\n",
       "    <tr>\n",
       "      <th>6</th>\n",
       "      <td>1.591662</td>\n",
       "      <td>WindGustDir</td>\n",
       "    </tr>\n",
       "    <tr>\n",
       "      <th>7</th>\n",
       "      <td>2.194449</td>\n",
       "      <td>WindGustSpeed</td>\n",
       "    </tr>\n",
       "    <tr>\n",
       "      <th>8</th>\n",
       "      <td>1.260121</td>\n",
       "      <td>WindDir9am</td>\n",
       "    </tr>\n",
       "    <tr>\n",
       "      <th>9</th>\n",
       "      <td>1.481169</td>\n",
       "      <td>WindDir3pm</td>\n",
       "    </tr>\n",
       "    <tr>\n",
       "      <th>10</th>\n",
       "      <td>2.067546</td>\n",
       "      <td>WindSpeed9am</td>\n",
       "    </tr>\n",
       "    <tr>\n",
       "      <th>11</th>\n",
       "      <td>1.999784</td>\n",
       "      <td>WindSpeed3pm</td>\n",
       "    </tr>\n",
       "    <tr>\n",
       "      <th>12</th>\n",
       "      <td>3.114569</td>\n",
       "      <td>Humidity9am</td>\n",
       "    </tr>\n",
       "    <tr>\n",
       "      <th>13</th>\n",
       "      <td>4.564317</td>\n",
       "      <td>Humidity3pm</td>\n",
       "    </tr>\n",
       "    <tr>\n",
       "      <th>14</th>\n",
       "      <td>6.663680</td>\n",
       "      <td>Pressure9am</td>\n",
       "    </tr>\n",
       "    <tr>\n",
       "      <th>15</th>\n",
       "      <td>6.296680</td>\n",
       "      <td>Pressure3pm</td>\n",
       "    </tr>\n",
       "    <tr>\n",
       "      <th>16</th>\n",
       "      <td>2.107320</td>\n",
       "      <td>Cloud9am</td>\n",
       "    </tr>\n",
       "    <tr>\n",
       "      <th>17</th>\n",
       "      <td>1.826551</td>\n",
       "      <td>Cloud3pm</td>\n",
       "    </tr>\n",
       "    <tr>\n",
       "      <th>18</th>\n",
       "      <td>15.244500</td>\n",
       "      <td>Temp9am</td>\n",
       "    </tr>\n",
       "    <tr>\n",
       "      <th>19</th>\n",
       "      <td>26.420591</td>\n",
       "      <td>Temp3pm</td>\n",
       "    </tr>\n",
       "    <tr>\n",
       "      <th>20</th>\n",
       "      <td>4.400722</td>\n",
       "      <td>RainToday</td>\n",
       "    </tr>\n",
       "  </tbody>\n",
       "</table>\n",
       "</div>"
      ],
      "text/plain": [
       "          vif       Features\n",
       "0    1.228356       Location\n",
       "1    7.684290        MinTemp\n",
       "2   20.500980        MaxTemp\n",
       "3    4.648081       Rainfall\n",
       "4    1.274366    Evaporation\n",
       "5    2.023979       Sunshine\n",
       "6    1.591662    WindGustDir\n",
       "7    2.194449  WindGustSpeed\n",
       "8    1.260121     WindDir9am\n",
       "9    1.481169     WindDir3pm\n",
       "10   2.067546   WindSpeed9am\n",
       "11   1.999784   WindSpeed3pm\n",
       "12   3.114569    Humidity9am\n",
       "13   4.564317    Humidity3pm\n",
       "14   6.663680    Pressure9am\n",
       "15   6.296680    Pressure3pm\n",
       "16   2.107320       Cloud9am\n",
       "17   1.826551       Cloud3pm\n",
       "18  15.244500        Temp9am\n",
       "19  26.420591        Temp3pm\n",
       "20   4.400722      RainToday"
      ]
     },
     "execution_count": 105,
     "metadata": {},
     "output_type": "execute_result"
    }
   ],
   "source": [
    "vif"
   ]
  },
  {
   "cell_type": "code",
   "execution_count": 108,
   "id": "1a3c9f72",
   "metadata": {},
   "outputs": [
    {
     "data": {
      "text/plain": [
       "<AxesSubplot:>"
      ]
     },
     "execution_count": 108,
     "metadata": {},
     "output_type": "execute_result"
    },
    {
     "data": {
      "image/png": "[encoded data removed]",
      "text/plain": [
       "<Figure size 1296x1080 with 2 Axes>"
      ]
     },
     "metadata": {
      "needs_background": "light"
     },
     "output_type": "display_data"
    }
   ],
   "source": [
    "plt.figure(figsize=(18,15))\n",
    "sns.heatmap(data.corr())"
   ]
  },
  {
   "cell_type": "code",
   "execution_count": 111,
   "id": "091c2ff2",
   "metadata": {},
   "outputs": [],
   "source": [
    "x_train,x_test,y_train,y_test=train_test_split(x_scaled,y,test_size=0.25,random_state=355)"
   ]
  },
  {
   "cell_type": "code",
   "execution_count": 112,
   "id": "b23534ce",
   "metadata": {},
   "outputs": [
    {
     "data": {
      "text/plain": [
       "LogisticRegression()"
      ]
     },
     "execution_count": 112,
     "metadata": {},
     "output_type": "execute_result"
    }
   ],
   "source": [
    "log_reg=LogisticRegression()\n",
    "log_reg.fit(x_train,y_train)"
   ]
  },
  {
   "cell_type": "code",
   "execution_count": 113,
   "id": "47cd8ef6",
   "metadata": {},
   "outputs": [],
   "source": [
    "y_pred=log_reg.predict(x_test)"
   ]
  },
  {
   "cell_type": "code",
   "execution_count": 114,
   "id": "b3199788",
   "metadata": {},
   "outputs": [
    {
     "data": {
      "text/plain": [
       "array([1, 1, 1, ..., 1, 1, 1], dtype=int64)"
      ]
     },
     "execution_count": 114,
     "metadata": {},
     "output_type": "execute_result"
    }
   ],
   "source": [
    "y_pred"
   ]
  },
  {
   "cell_type": "code",
   "execution_count": 115,
   "id": "74ab7620",
   "metadata": {},
   "outputs": [
    {
     "data": {
      "text/plain": [
       "0.8418290854572713"
      ]
     },
     "execution_count": 115,
     "metadata": {},
     "output_type": "execute_result"
    }
   ],
   "source": [
    "accuracy=accuracy_score(y_test,y_pred)\n",
    "accuracy"
   ]
  },
  {
   "cell_type": "code",
   "execution_count": 116,
   "id": "d55ef7ab",
   "metadata": {},
   "outputs": [
    {
     "data": {
      "text/plain": [
       "array([[  73,  171],\n",
       "       [  40, 1050]], dtype=int64)"
      ]
     },
     "execution_count": 116,
     "metadata": {},
     "output_type": "execute_result"
    }
   ],
   "source": [
    "conf_mat=confusion_matrix(y_test,y_pred)\n",
    "conf_mat"
   ]
  },
  {
   "cell_type": "code",
   "execution_count": 117,
   "id": "063b6bac",
   "metadata": {},
   "outputs": [],
   "source": [
    "true_positive=conf_mat[0][0]\n",
    "false_positive=conf_mat[0][1]\n",
    "false_negative=conf_mat[1][0]\n",
    "true_negative=conf_mat[1][1]"
   ]
  },
  {
   "cell_type": "code",
   "execution_count": 119,
   "id": "6de69910",
   "metadata": {},
   "outputs": [
    {
     "data": {
      "text/plain": [
       "0.8418290854572713"
      ]
     },
     "execution_count": 119,
     "metadata": {},
     "output_type": "execute_result"
    }
   ],
   "source": [
    "Accuracy=(true_positive+true_negative)/(true_positive+false_positive+false_negative+true_negative)\n",
    "Accuracy"
   ]
  },
  {
   "cell_type": "code",
   "execution_count": 120,
   "id": "5c7b96a4",
   "metadata": {},
   "outputs": [
    {
     "data": {
      "text/plain": [
       "0.29918032786885246"
      ]
     },
     "execution_count": 120,
     "metadata": {},
     "output_type": "execute_result"
    }
   ],
   "source": [
    "Precison=true_positive/(true_positive+false_positive)\n",
    "Precison"
   ]
  },
  {
   "cell_type": "code",
   "execution_count": 121,
   "id": "1c4035e6",
   "metadata": {},
   "outputs": [
    {
     "data": {
      "text/plain": [
       "0.6460176991150443"
      ]
     },
     "execution_count": 121,
     "metadata": {},
     "output_type": "execute_result"
    }
   ],
   "source": [
    "Recall=true_positive/(true_positive+false_negative)\n",
    "Recall"
   ]
  },
  {
   "cell_type": "code",
   "execution_count": 122,
   "id": "4a9a978a",
   "metadata": {},
   "outputs": [
    {
     "data": {
      "text/plain": [
       "0.40896358543417366"
      ]
     },
     "execution_count": 122,
     "metadata": {},
     "output_type": "execute_result"
    }
   ],
   "source": [
    "F1_score=2*(Recall*Precison)/(Recall+Precison)\n",
    "F1_score"
   ]
  },
  {
   "cell_type": "code",
   "execution_count": 123,
   "id": "5f11bbaa",
   "metadata": {},
   "outputs": [
    {
     "name": "stdout",
     "output_type": "stream",
     "text": [
      "0.6312415400812152\n"
     ]
    }
   ],
   "source": [
    "auc=roc_auc_score(y_test,y_pred)\n",
    "print(auc)"
   ]
  },
  {
   "cell_type": "code",
   "execution_count": 124,
   "id": "263718d9",
   "metadata": {},
   "outputs": [],
   "source": [
    "fpr,tpr, thresholds=roc_curve(y_test,y_pred)"
   ]
  },
  {
   "cell_type": "code",
   "execution_count": 125,
   "id": "e83b60ef",
   "metadata": {},
   "outputs": [
    {
     "data": {
      "image/png": "[encoded data removed]",
      "text/plain": [
       "<Figure size 432x288 with 1 Axes>"
      ]
     },
     "metadata": {
      "needs_background": "light"
     },
     "output_type": "display_data"
    }
   ],
   "source": [
    "plt.plot(fpr, tpr, color='Orange',label='Roc')\n",
    "plt.plot([0,1],[0,1], color='darkblue', linestyle='--', label='Roc curve (area=%0.3f)'%auc)\n",
    "\n",
    "plt.xlabel('False Positive Rate')\n",
    "plt.ylabel('True Positive Rate')\n",
    "plt.title('Receiver Operating Characteristic (Roc) curve')\n",
    "\n",
    "plt.legend()\n",
    "\n",
    "plt.show()"
   ]
  },
  {
   "cell_type": "code",
   "execution_count": null,
   "id": "568c9c86",
   "metadata": {},
   "outputs": [],
   "source": []
  },
  {
   "cell_type": "code",
   "execution_count": null,
   "id": "8847af87",
   "metadata": {},
   "outputs": [],
   "source": []
  },
  {
   "cell_type": "code",
   "execution_count": null,
   "id": "76b00283",
   "metadata": {},
   "outputs": [],
   "source": []
  },
  {
   "cell_type": "code",
   "execution_count": 1,
   "id": "d6e60aa4",
   "metadata": {},
   "outputs": [],
   "source": [
    "import pandas as pd\n",
    "import numpy as np\n",
    "import seaborn as sns\n",
    "import matplotlib.pyplot as plt \n",
    "from sklearn.model_selection import train_test_split\n",
    "from sklearn.metrics import confusion_matrix, classification_report\n",
    "from sklearn.neighbors import KNeighborsClassifier\n",
    "from sklearn.preprocessing import StandardScaler\n",
    "import warnings\n",
    "warnings.filterwarnings('ignore')"
   ]
  },
  {
   "cell_type": "code",
   "execution_count": 2,
   "id": "57fb979b",
   "metadata": {},
   "outputs": [],
   "source": [
    "df=pd.read_csv('E:\\datascience\\weatherAUS.csv')"
   ]
  },
  {
   "cell_type": "code",
   "execution_count": 3,
   "id": "0e21fa2a",
   "metadata": {},
   "outputs": [
    {
     "data": {
      "text/html": [
       "<div>\n",
       "<style scoped>\n",
       "    .dataframe tbody tr th:only-of-type {\n",
       "        vertical-align: middle;\n",
       "    }\n",
       "\n",
       "    .dataframe tbody tr th {\n",
       "        vertical-align: top;\n",
       "    }\n",
       "\n",
       "    .dataframe thead th {\n",
       "        text-align: right;\n",
       "    }\n",
       "</style>\n",
       "<table border=\"1\" class=\"dataframe\">\n",
       "  <thead>\n",
       "    <tr style=\"text-align: right;\">\n",
       "      <th></th>\n",
       "      <th>Date</th>\n",
       "      <th>Location</th>\n",
       "      <th>MinTemp</th>\n",
       "      <th>MaxTemp</th>\n",
       "      <th>Rainfall</th>\n",
       "      <th>Evaporation</th>\n",
       "      <th>Sunshine</th>\n",
       "      <th>WindGustDir</th>\n",
       "      <th>WindGustSpeed</th>\n",
       "      <th>WindDir9am</th>\n",
       "      <th>...</th>\n",
       "      <th>Humidity9am</th>\n",
       "      <th>Humidity3pm</th>\n",
       "      <th>Pressure9am</th>\n",
       "      <th>Pressure3pm</th>\n",
       "      <th>Cloud9am</th>\n",
       "      <th>Cloud3pm</th>\n",
       "      <th>Temp9am</th>\n",
       "      <th>Temp3pm</th>\n",
       "      <th>RainToday</th>\n",
       "      <th>RainTomorrow</th>\n",
       "    </tr>\n",
       "  </thead>\n",
       "  <tbody>\n",
       "    <tr>\n",
       "      <th>0</th>\n",
       "      <td>2008-12-01</td>\n",
       "      <td>Albury</td>\n",
       "      <td>13.4</td>\n",
       "      <td>22.9</td>\n",
       "      <td>0.6</td>\n",
       "      <td>NaN</td>\n",
       "      <td>NaN</td>\n",
       "      <td>W</td>\n",
       "      <td>44.0</td>\n",
       "      <td>W</td>\n",
       "      <td>...</td>\n",
       "      <td>71.0</td>\n",
       "      <td>22.0</td>\n",
       "      <td>1007.7</td>\n",
       "      <td>1007.1</td>\n",
       "      <td>8.0</td>\n",
       "      <td>NaN</td>\n",
       "      <td>16.9</td>\n",
       "      <td>21.8</td>\n",
       "      <td>No</td>\n",
       "      <td>No</td>\n",
       "    </tr>\n",
       "    <tr>\n",
       "      <th>1</th>\n",
       "      <td>2008-12-02</td>\n",
       "      <td>Albury</td>\n",
       "      <td>7.4</td>\n",
       "      <td>25.1</td>\n",
       "      <td>0.0</td>\n",
       "      <td>NaN</td>\n",
       "      <td>NaN</td>\n",
       "      <td>WNW</td>\n",
       "      <td>44.0</td>\n",
       "      <td>NNW</td>\n",
       "      <td>...</td>\n",
       "      <td>44.0</td>\n",
       "      <td>25.0</td>\n",
       "      <td>1010.6</td>\n",
       "      <td>1007.8</td>\n",
       "      <td>NaN</td>\n",
       "      <td>NaN</td>\n",
       "      <td>17.2</td>\n",
       "      <td>24.3</td>\n",
       "      <td>No</td>\n",
       "      <td>No</td>\n",
       "    </tr>\n",
       "    <tr>\n",
       "      <th>2</th>\n",
       "      <td>2008-12-03</td>\n",
       "      <td>Albury</td>\n",
       "      <td>12.9</td>\n",
       "      <td>25.7</td>\n",
       "      <td>0.0</td>\n",
       "      <td>NaN</td>\n",
       "      <td>NaN</td>\n",
       "      <td>WSW</td>\n",
       "      <td>46.0</td>\n",
       "      <td>W</td>\n",
       "      <td>...</td>\n",
       "      <td>38.0</td>\n",
       "      <td>30.0</td>\n",
       "      <td>1007.6</td>\n",
       "      <td>1008.7</td>\n",
       "      <td>NaN</td>\n",
       "      <td>2.0</td>\n",
       "      <td>21.0</td>\n",
       "      <td>23.2</td>\n",
       "      <td>No</td>\n",
       "      <td>No</td>\n",
       "    </tr>\n",
       "    <tr>\n",
       "      <th>3</th>\n",
       "      <td>2008-12-04</td>\n",
       "      <td>Albury</td>\n",
       "      <td>9.2</td>\n",
       "      <td>28.0</td>\n",
       "      <td>0.0</td>\n",
       "      <td>NaN</td>\n",
       "      <td>NaN</td>\n",
       "      <td>NE</td>\n",
       "      <td>24.0</td>\n",
       "      <td>SE</td>\n",
       "      <td>...</td>\n",
       "      <td>45.0</td>\n",
       "      <td>16.0</td>\n",
       "      <td>1017.6</td>\n",
       "      <td>1012.8</td>\n",
       "      <td>NaN</td>\n",
       "      <td>NaN</td>\n",
       "      <td>18.1</td>\n",
       "      <td>26.5</td>\n",
       "      <td>No</td>\n",
       "      <td>No</td>\n",
       "    </tr>\n",
       "    <tr>\n",
       "      <th>4</th>\n",
       "      <td>2008-12-05</td>\n",
       "      <td>Albury</td>\n",
       "      <td>17.5</td>\n",
       "      <td>32.3</td>\n",
       "      <td>1.0</td>\n",
       "      <td>NaN</td>\n",
       "      <td>NaN</td>\n",
       "      <td>W</td>\n",
       "      <td>41.0</td>\n",
       "      <td>ENE</td>\n",
       "      <td>...</td>\n",
       "      <td>82.0</td>\n",
       "      <td>33.0</td>\n",
       "      <td>1010.8</td>\n",
       "      <td>1006.0</td>\n",
       "      <td>7.0</td>\n",
       "      <td>8.0</td>\n",
       "      <td>17.8</td>\n",
       "      <td>29.7</td>\n",
       "      <td>No</td>\n",
       "      <td>No</td>\n",
       "    </tr>\n",
       "  </tbody>\n",
       "</table>\n",
       "<p>5 rows × 23 columns</p>\n",
       "</div>"
      ],
      "text/plain": [
       "         Date Location  MinTemp  MaxTemp  Rainfall  Evaporation  Sunshine  \\\n",
       "0  2008-12-01   Albury     13.4     22.9       0.6          NaN       NaN   \n",
       "1  2008-12-02   Albury      7.4     25.1       0.0          NaN       NaN   \n",
       "2  2008-12-03   Albury     12.9     25.7       0.0          NaN       NaN   \n",
       "3  2008-12-04   Albury      9.2     28.0       0.0          NaN       NaN   \n",
       "4  2008-12-05   Albury     17.5     32.3       1.0          NaN       NaN   \n",
       "\n",
       "  WindGustDir  WindGustSpeed WindDir9am  ... Humidity9am  Humidity3pm  \\\n",
       "0           W           44.0          W  ...        71.0         22.0   \n",
       "1         WNW           44.0        NNW  ...        44.0         25.0   \n",
       "2         WSW           46.0          W  ...        38.0         30.0   \n",
       "3          NE           24.0         SE  ...        45.0         16.0   \n",
       "4           W           41.0        ENE  ...        82.0         33.0   \n",
       "\n",
       "   Pressure9am  Pressure3pm  Cloud9am  Cloud3pm  Temp9am  Temp3pm  RainToday  \\\n",
       "0       1007.7       1007.1       8.0       NaN     16.9     21.8         No   \n",
       "1       1010.6       1007.8       NaN       NaN     17.2     24.3         No   \n",
       "2       1007.6       1008.7       NaN       2.0     21.0     23.2         No   \n",
       "3       1017.6       1012.8       NaN       NaN     18.1     26.5         No   \n",
       "4       1010.8       1006.0       7.0       8.0     17.8     29.7         No   \n",
       "\n",
       "   RainTomorrow  \n",
       "0            No  \n",
       "1            No  \n",
       "2            No  \n",
       "3            No  \n",
       "4            No  \n",
       "\n",
       "[5 rows x 23 columns]"
      ]
     },
     "execution_count": 3,
     "metadata": {},
     "output_type": "execute_result"
    }
   ],
   "source": [
    "df.head()"
   ]
  },
  {
   "cell_type": "code",
   "execution_count": 8,
   "id": "f80d9855",
   "metadata": {},
   "outputs": [
    {
     "data": {
      "text/html": [
       "<div>\n",
       "<style scoped>\n",
       "    .dataframe tbody tr th:only-of-type {\n",
       "        vertical-align: middle;\n",
       "    }\n",
       "\n",
       "    .dataframe tbody tr th {\n",
       "        vertical-align: top;\n",
       "    }\n",
       "\n",
       "    .dataframe thead th {\n",
       "        text-align: right;\n",
       "    }\n",
       "</style>\n",
       "<table border=\"1\" class=\"dataframe\">\n",
       "  <thead>\n",
       "    <tr style=\"text-align: right;\">\n",
       "      <th></th>\n",
       "      <th>MinTemp</th>\n",
       "      <th>MaxTemp</th>\n",
       "      <th>Rainfall</th>\n",
       "      <th>Evaporation</th>\n",
       "      <th>Sunshine</th>\n",
       "      <th>WindGustSpeed</th>\n",
       "      <th>WindSpeed9am</th>\n",
       "      <th>WindSpeed3pm</th>\n",
       "      <th>Humidity9am</th>\n",
       "      <th>Humidity3pm</th>\n",
       "      <th>Pressure9am</th>\n",
       "      <th>Pressure3pm</th>\n",
       "      <th>Cloud9am</th>\n",
       "      <th>Cloud3pm</th>\n",
       "      <th>Temp9am</th>\n",
       "      <th>Temp3pm</th>\n",
       "    </tr>\n",
       "  </thead>\n",
       "  <tbody>\n",
       "    <tr>\n",
       "      <th>count</th>\n",
       "      <td>8350.000000</td>\n",
       "      <td>8365.000000</td>\n",
       "      <td>8185.000000</td>\n",
       "      <td>4913.000000</td>\n",
       "      <td>4431.000000</td>\n",
       "      <td>7434.000000</td>\n",
       "      <td>8349.000000</td>\n",
       "      <td>8318.000000</td>\n",
       "      <td>8366.000000</td>\n",
       "      <td>8323.000000</td>\n",
       "      <td>7116.000000</td>\n",
       "      <td>7113.000000</td>\n",
       "      <td>6004.000000</td>\n",
       "      <td>5970.000000</td>\n",
       "      <td>8369.000000</td>\n",
       "      <td>8329.000000</td>\n",
       "    </tr>\n",
       "    <tr>\n",
       "      <th>mean</th>\n",
       "      <td>13.193305</td>\n",
       "      <td>23.859976</td>\n",
       "      <td>2.805913</td>\n",
       "      <td>5.389395</td>\n",
       "      <td>7.632205</td>\n",
       "      <td>40.174469</td>\n",
       "      <td>13.847646</td>\n",
       "      <td>18.533662</td>\n",
       "      <td>67.822496</td>\n",
       "      <td>51.249790</td>\n",
       "      <td>1017.640233</td>\n",
       "      <td>1015.236075</td>\n",
       "      <td>4.566622</td>\n",
       "      <td>4.503183</td>\n",
       "      <td>17.762015</td>\n",
       "      <td>22.442934</td>\n",
       "    </tr>\n",
       "    <tr>\n",
       "      <th>std</th>\n",
       "      <td>5.403596</td>\n",
       "      <td>6.136408</td>\n",
       "      <td>10.459379</td>\n",
       "      <td>5.044484</td>\n",
       "      <td>3.896235</td>\n",
       "      <td>14.665721</td>\n",
       "      <td>10.174579</td>\n",
       "      <td>9.766986</td>\n",
       "      <td>16.833283</td>\n",
       "      <td>18.423774</td>\n",
       "      <td>6.828699</td>\n",
       "      <td>6.766681</td>\n",
       "      <td>2.877658</td>\n",
       "      <td>2.731659</td>\n",
       "      <td>5.627035</td>\n",
       "      <td>5.980020</td>\n",
       "    </tr>\n",
       "    <tr>\n",
       "      <th>min</th>\n",
       "      <td>-2.000000</td>\n",
       "      <td>8.200000</td>\n",
       "      <td>0.000000</td>\n",
       "      <td>0.000000</td>\n",
       "      <td>0.000000</td>\n",
       "      <td>7.000000</td>\n",
       "      <td>0.000000</td>\n",
       "      <td>0.000000</td>\n",
       "      <td>10.000000</td>\n",
       "      <td>6.000000</td>\n",
       "      <td>989.800000</td>\n",
       "      <td>982.900000</td>\n",
       "      <td>0.000000</td>\n",
       "      <td>0.000000</td>\n",
       "      <td>1.900000</td>\n",
       "      <td>7.300000</td>\n",
       "    </tr>\n",
       "    <tr>\n",
       "      <th>25%</th>\n",
       "      <td>9.200000</td>\n",
       "      <td>19.300000</td>\n",
       "      <td>0.000000</td>\n",
       "      <td>2.600000</td>\n",
       "      <td>4.750000</td>\n",
       "      <td>30.000000</td>\n",
       "      <td>6.000000</td>\n",
       "      <td>11.000000</td>\n",
       "      <td>56.000000</td>\n",
       "      <td>39.000000</td>\n",
       "      <td>1013.000000</td>\n",
       "      <td>1010.400000</td>\n",
       "      <td>1.000000</td>\n",
       "      <td>2.000000</td>\n",
       "      <td>13.800000</td>\n",
       "      <td>18.000000</td>\n",
       "    </tr>\n",
       "    <tr>\n",
       "      <th>50%</th>\n",
       "      <td>13.300000</td>\n",
       "      <td>23.300000</td>\n",
       "      <td>0.000000</td>\n",
       "      <td>4.600000</td>\n",
       "      <td>8.700000</td>\n",
       "      <td>39.000000</td>\n",
       "      <td>13.000000</td>\n",
       "      <td>19.000000</td>\n",
       "      <td>68.000000</td>\n",
       "      <td>51.000000</td>\n",
       "      <td>1017.700000</td>\n",
       "      <td>1015.300000</td>\n",
       "      <td>5.000000</td>\n",
       "      <td>5.000000</td>\n",
       "      <td>17.800000</td>\n",
       "      <td>21.900000</td>\n",
       "    </tr>\n",
       "    <tr>\n",
       "      <th>75%</th>\n",
       "      <td>17.400000</td>\n",
       "      <td>28.000000</td>\n",
       "      <td>1.000000</td>\n",
       "      <td>7.000000</td>\n",
       "      <td>10.700000</td>\n",
       "      <td>50.000000</td>\n",
       "      <td>20.000000</td>\n",
       "      <td>24.000000</td>\n",
       "      <td>80.000000</td>\n",
       "      <td>63.000000</td>\n",
       "      <td>1022.300000</td>\n",
       "      <td>1019.800000</td>\n",
       "      <td>7.000000</td>\n",
       "      <td>7.000000</td>\n",
       "      <td>21.900000</td>\n",
       "      <td>26.400000</td>\n",
       "    </tr>\n",
       "    <tr>\n",
       "      <th>max</th>\n",
       "      <td>28.500000</td>\n",
       "      <td>45.500000</td>\n",
       "      <td>371.000000</td>\n",
       "      <td>145.000000</td>\n",
       "      <td>13.900000</td>\n",
       "      <td>107.000000</td>\n",
       "      <td>63.000000</td>\n",
       "      <td>83.000000</td>\n",
       "      <td>100.000000</td>\n",
       "      <td>99.000000</td>\n",
       "      <td>1039.000000</td>\n",
       "      <td>1036.000000</td>\n",
       "      <td>8.000000</td>\n",
       "      <td>8.000000</td>\n",
       "      <td>39.400000</td>\n",
       "      <td>44.100000</td>\n",
       "    </tr>\n",
       "  </tbody>\n",
       "</table>\n",
       "</div>"
      ],
      "text/plain": [
       "           MinTemp      MaxTemp     Rainfall  Evaporation     Sunshine  \\\n",
       "count  8350.000000  8365.000000  8185.000000  4913.000000  4431.000000   \n",
       "mean     13.193305    23.859976     2.805913     5.389395     7.632205   \n",
       "std       5.403596     6.136408    10.459379     5.044484     3.896235   \n",
       "min      -2.000000     8.200000     0.000000     0.000000     0.000000   \n",
       "25%       9.200000    19.300000     0.000000     2.600000     4.750000   \n",
       "50%      13.300000    23.300000     0.000000     4.600000     8.700000   \n",
       "75%      17.400000    28.000000     1.000000     7.000000    10.700000   \n",
       "max      28.500000    45.500000   371.000000   145.000000    13.900000   \n",
       "\n",
       "       WindGustSpeed  WindSpeed9am  WindSpeed3pm  Humidity9am  Humidity3pm  \\\n",
       "count    7434.000000   8349.000000   8318.000000  8366.000000  8323.000000   \n",
       "mean       40.174469     13.847646     18.533662    67.822496    51.249790   \n",
       "std        14.665721     10.174579      9.766986    16.833283    18.423774   \n",
       "min         7.000000      0.000000      0.000000    10.000000     6.000000   \n",
       "25%        30.000000      6.000000     11.000000    56.000000    39.000000   \n",
       "50%        39.000000     13.000000     19.000000    68.000000    51.000000   \n",
       "75%        50.000000     20.000000     24.000000    80.000000    63.000000   \n",
       "max       107.000000     63.000000     83.000000   100.000000    99.000000   \n",
       "\n",
       "       Pressure9am  Pressure3pm     Cloud9am     Cloud3pm      Temp9am  \\\n",
       "count  7116.000000  7113.000000  6004.000000  5970.000000  8369.000000   \n",
       "mean   1017.640233  1015.236075     4.566622     4.503183    17.762015   \n",
       "std       6.828699     6.766681     2.877658     2.731659     5.627035   \n",
       "min     989.800000   982.900000     0.000000     0.000000     1.900000   \n",
       "25%    1013.000000  1010.400000     1.000000     2.000000    13.800000   \n",
       "50%    1017.700000  1015.300000     5.000000     5.000000    17.800000   \n",
       "75%    1022.300000  1019.800000     7.000000     7.000000    21.900000   \n",
       "max    1039.000000  1036.000000     8.000000     8.000000    39.400000   \n",
       "\n",
       "           Temp3pm  \n",
       "count  8329.000000  \n",
       "mean     22.442934  \n",
       "std       5.980020  \n",
       "min       7.300000  \n",
       "25%      18.000000  \n",
       "50%      21.900000  \n",
       "75%      26.400000  \n",
       "max      44.100000  "
      ]
     },
     "execution_count": 8,
     "metadata": {},
     "output_type": "execute_result"
    }
   ],
   "source": [
    "df.describe()"
   ]
  },
  {
   "cell_type": "code",
   "execution_count": 9,
   "id": "62c2ad37",
   "metadata": {},
   "outputs": [
    {
     "name": "stdout",
     "output_type": "stream",
     "text": [
      "<class 'pandas.core.frame.DataFrame'>\n",
      "RangeIndex: 8425 entries, 0 to 8424\n",
      "Data columns (total 23 columns):\n",
      " #   Column         Non-Null Count  Dtype  \n",
      "---  ------         --------------  -----  \n",
      " 0   Date           8425 non-null   object \n",
      " 1   Location       8425 non-null   object \n",
      " 2   MinTemp        8350 non-null   float64\n",
      " 3   MaxTemp        8365 non-null   float64\n",
      " 4   Rainfall       8185 non-null   float64\n",
      " 5   Evaporation    4913 non-null   float64\n",
      " 6   Sunshine       4431 non-null   float64\n",
      " 7   WindGustDir    7434 non-null   object \n",
      " 8   WindGustSpeed  7434 non-null   float64\n",
      " 9   WindDir9am     7596 non-null   object \n",
      " 10  WindDir3pm     8117 non-null   object \n",
      " 11  WindSpeed9am   8349 non-null   float64\n",
      " 12  WindSpeed3pm   8318 non-null   float64\n",
      " 13  Humidity9am    8366 non-null   float64\n",
      " 14  Humidity3pm    8323 non-null   float64\n",
      " 15  Pressure9am    7116 non-null   float64\n",
      " 16  Pressure3pm    7113 non-null   float64\n",
      " 17  Cloud9am       6004 non-null   float64\n",
      " 18  Cloud3pm       5970 non-null   float64\n",
      " 19  Temp9am        8369 non-null   float64\n",
      " 20  Temp3pm        8329 non-null   float64\n",
      " 21  RainToday      8185 non-null   object \n",
      " 22  RainTomorrow   8186 non-null   object \n",
      "dtypes: float64(16), object(7)\n",
      "memory usage: 1.5+ MB\n"
     ]
    }
   ],
   "source": [
    "df.info()"
   ]
  },
  {
   "cell_type": "code",
   "execution_count": 10,
   "id": "de7f9560",
   "metadata": {},
   "outputs": [
    {
     "data": {
      "text/plain": [
       "Date                0\n",
       "Location            0\n",
       "MinTemp            75\n",
       "MaxTemp            60\n",
       "Rainfall          240\n",
       "Evaporation      3512\n",
       "Sunshine         3994\n",
       "WindGustDir       991\n",
       "WindGustSpeed     991\n",
       "WindDir9am        829\n",
       "WindDir3pm        308\n",
       "WindSpeed9am       76\n",
       "WindSpeed3pm      107\n",
       "Humidity9am        59\n",
       "Humidity3pm       102\n",
       "Pressure9am      1309\n",
       "Pressure3pm      1312\n",
       "Cloud9am         2421\n",
       "Cloud3pm         2455\n",
       "Temp9am            56\n",
       "Temp3pm            96\n",
       "RainToday         240\n",
       "RainTomorrow      239\n",
       "dtype: int64"
      ]
     },
     "execution_count": 10,
     "metadata": {},
     "output_type": "execute_result"
    }
   ],
   "source": [
    "df.isnull().sum()"
   ]
  },
  {
   "cell_type": "code",
   "execution_count": 12,
   "id": "4ded72e8",
   "metadata": {},
   "outputs": [],
   "source": [
    "df=df.drop(columns={'Date'})"
   ]
  },
  {
   "cell_type": "code",
   "execution_count": 13,
   "id": "d4c95275",
   "metadata": {},
   "outputs": [],
   "source": [
    "df=df.replace({'Location':{'Adelaide':0,'Albury':1,'Brisbane':2,'CoffsHarbour':3,'Darwin':4,'Melbourne':5,'Newcastle':6,'Penrith':7,'PerthAirport':8,'Uluru':9,'Williamtown':10,'Wollongong':11}})\n"
   ]
  },
  {
   "cell_type": "code",
   "execution_count": 14,
   "id": "d53b6b11",
   "metadata": {},
   "outputs": [],
   "source": [
    "df['MinTemp']=df['MinTemp'].fillna(df['MinTemp'].mode()[0])\n",
    "df['MaxTemp']=df['MaxTemp'].fillna(df['MaxTemp'].mode()[0])\n",
    "df['Rainfall']=df['Rainfall'].fillna(df['Rainfall'].mode()[0])\n",
    "df['Evaporation']=df['Evaporation'].fillna(df['Evaporation'].mode()[0])\n",
    "df['Sunshine']=df['Sunshine'].fillna(df['Sunshine'].mode()[0])\n",
    "df['WindGustSpeed']=df['WindGustSpeed'].fillna(df['WindGustSpeed'].mode()[0])\n",
    "df['WindGustDir']=df['WindGustDir'].fillna(df['WindGustDir'].mode()[0])\n",
    "df['WindGustDir']=df['WindGustDir'].fillna(df['WindGustDir'].mode()[0])\n",
    "df['WindSpeed9am']=df['WindSpeed9am'].fillna(df['WindSpeed9am'].mode()[0])\n",
    "df['WindSpeed3pm']=df['WindSpeed3pm'].fillna(df['WindSpeed3pm'].mode()[0])\n",
    "df['WindDir9am']=df['WindDir9am'].fillna(df['WindDir9am'].mode()[0])\n",
    "df['WindDir3pm']=df['WindDir3pm'].fillna(df['WindDir3pm'].mode()[0])\n",
    "df['Humidity9am']=df['Humidity9am'].fillna(df['Humidity9am'].mode()[0])\n",
    "df['Humidity3pm']=df['Humidity3pm'].fillna(df['Humidity3pm'].mode()[0])\n",
    "df['Pressure9am']=df['Pressure9am'].fillna(df['Pressure9am'].mode()[0])\n",
    "df['Pressure3pm']=df['Pressure3pm'].fillna(df['Pressure3pm'].mode()[0])\n",
    "df['Cloud9am']=df['Cloud9am'].fillna(df['Cloud9am'].mode()[0])\n",
    "df['Cloud3pm']=df['Cloud3pm'].fillna(df['Cloud3pm'].mode()[0])\n",
    "df['Temp9am']=df['Temp9am'].fillna(df['Temp9am'].mode()[0])\n",
    "df['Temp3pm']=df['Temp3pm'].fillna(df['Temp3pm'].mode()[0])\n",
    "df['RainToday']=df['RainToday'].fillna(df['RainToday'].mode()[0])\n",
    "df['RainTomorrow']=df['RainTomorrow'].fillna(df['RainTomorrow'].mode()[0])"
   ]
  },
  {
   "cell_type": "code",
   "execution_count": 15,
   "id": "cdcc6a0c",
   "metadata": {},
   "outputs": [],
   "source": [
    "df=df.replace({'RainToday':{'No':0,'Yes':1}},{'RainTomorrow':{'No':0,'Yes':1}})\n",
    "df=df.replace({'WindGustDir':{'E':0,'ENE':1,'ESE':2,'N':3,'NE':4,'NNE':5,'NNW':6,'NW':7,'S':8,'SE':9,'SSE':10,'SW':11,'SSW':12,'W':13,'WNW':14,'WSW':15}})\n",
    "df=df.replace({'WindDir9am':{'E':0,'ENE':1,'ESE':2,'N':3,'NE':4,'NNE':5,'NNW':6,'NW':7,'S':8,'SE':9,'SSE':10,'SW':11,'SSW':12,'W':13,'WNW':14,'WSW':15}})\n",
    "df=df.replace({'WindDir3pm':{'E':0,'ENE':1,'ESE':2,'N':3,'NE':4,'NNE':5,'NNW':6,'NW':7,'S':8,'SE':9,'SSE':10,'SW':11,'SSW':12,'W':13,'WNW':14,'WSW':15}})\n",
    "df=df.replace({'RainTomorrow':{'Yes':0,'No':1}})\n",
    "df=df.replace({'RainToday':{'Yes':0,'No':1}})\n"
   ]
  },
  {
   "cell_type": "code",
   "execution_count": 16,
   "id": "e5fcdf49",
   "metadata": {},
   "outputs": [
    {
     "data": {
      "image/png": "[encoded data removed]",
      "text/plain": [
       "<Figure size 432x288 with 1 Axes>"
      ]
     },
     "metadata": {
      "needs_background": "light"
     },
     "output_type": "display_data"
    }
   ],
   "source": [
    "sns.countplot(x='RainTomorrow',data=df)\n",
    "plt.show()"
   ]
  },
  {
   "cell_type": "code",
   "execution_count": 17,
   "id": "c3117faf",
   "metadata": {},
   "outputs": [
    {
     "data": {
      "text/plain": [
       "(8425, 22)"
      ]
     },
     "execution_count": 17,
     "metadata": {},
     "output_type": "execute_result"
    }
   ],
   "source": [
    "df.shape"
   ]
  },
  {
   "cell_type": "code",
   "execution_count": 18,
   "id": "82fc0940",
   "metadata": {},
   "outputs": [],
   "source": [
    "from sklearn.feature_selection import SelectKBest,f_classif"
   ]
  },
  {
   "cell_type": "code",
   "execution_count": 19,
   "id": "4f21d26d",
   "metadata": {},
   "outputs": [],
   "source": [
    "x=df.drop('RainTomorrow',axis=1)\n",
    "y=df.RainTomorrow"
   ]
  },
  {
   "cell_type": "code",
   "execution_count": 24,
   "id": "16791696",
   "metadata": {},
   "outputs": [
    {
     "name": "stdout",
     "output_type": "stream",
     "text": [
      "     Feature_Name        Score\n",
      "13    Humidity3pm  2072.219850\n",
      "20      RainToday   914.359293\n",
      "12    Humidity9am   669.732208\n",
      "17       Cloud3pm   616.533364\n",
      "3        Rainfall   424.387722\n",
      "16       Cloud9am   413.393597\n",
      "5        Sunshine   343.462920\n",
      "19        Temp3pm   324.008400\n",
      "7   WindGustSpeed   316.402807\n",
      "14    Pressure9am   228.180582\n",
      "2         MaxTemp   195.824535\n",
      "15    Pressure3pm   152.121389\n",
      "1         MinTemp    72.940019\n",
      "10   WindSpeed9am    39.062969\n",
      "4     Evaporation    30.826986\n",
      "11   WindSpeed3pm    26.032406\n",
      "6     WindGustDir    23.012816\n",
      "8      WindDir9am     8.342792\n",
      "18        Temp9am     4.692827\n"
     ]
    }
   ],
   "source": [
    "best_features=SelectKBest(score_func=f_classif, k=19)\n",
    "fit=best_features.fit(x,y)\n",
    "df_scores=pd.DataFrame(fit.scores_)\n",
    "df_columns=pd.DataFrame(x.columns)\n",
    "\n",
    "feature_scores=pd.concat([df_columns,df_scores],axis=1)\n",
    "feature_scores.columns=['Feature_Name','Score']\n",
    "print(feature_scores.nlargest(19,'Score'))"
   ]
  },
  {
   "cell_type": "code",
   "execution_count": 27,
   "id": "77d97cdc",
   "metadata": {},
   "outputs": [],
   "source": [
    "new_x=df[['Humidity3pm','RainToday','Humidity9am','Cloud3pm','Rainfall','Cloud9am','Sunshine','Temp3pm','WindGustSpeed','Pressure9am','MaxTemp',\n",
    "          'Pressure3pm','MinTemp','WindSpeed9am','Evaporation','WindSpeed3pm','WindGustDir',\n",
    "          'WindDir9am','Temp9am']]"
   ]
  },
  {
   "cell_type": "code",
   "execution_count": 28,
   "id": "305d63b0",
   "metadata": {},
   "outputs": [
    {
     "data": {
      "text/html": [
       "<div>\n",
       "<style scoped>\n",
       "    .dataframe tbody tr th:only-of-type {\n",
       "        vertical-align: middle;\n",
       "    }\n",
       "\n",
       "    .dataframe tbody tr th {\n",
       "        vertical-align: top;\n",
       "    }\n",
       "\n",
       "    .dataframe thead th {\n",
       "        text-align: right;\n",
       "    }\n",
       "</style>\n",
       "<table border=\"1\" class=\"dataframe\">\n",
       "  <thead>\n",
       "    <tr style=\"text-align: right;\">\n",
       "      <th></th>\n",
       "      <th>Humidity3pm</th>\n",
       "      <th>RainToday</th>\n",
       "      <th>Humidity9am</th>\n",
       "      <th>Cloud3pm</th>\n",
       "      <th>Rainfall</th>\n",
       "      <th>Cloud9am</th>\n",
       "      <th>Sunshine</th>\n",
       "      <th>Temp3pm</th>\n",
       "      <th>WindGustSpeed</th>\n",
       "      <th>Pressure9am</th>\n",
       "      <th>MaxTemp</th>\n",
       "      <th>Pressure3pm</th>\n",
       "      <th>MinTemp</th>\n",
       "      <th>WindSpeed9am</th>\n",
       "      <th>Evaporation</th>\n",
       "      <th>WindSpeed3pm</th>\n",
       "      <th>WindGustDir</th>\n",
       "      <th>WindDir9am</th>\n",
       "      <th>Temp9am</th>\n",
       "    </tr>\n",
       "  </thead>\n",
       "  <tbody>\n",
       "    <tr>\n",
       "      <th>0</th>\n",
       "      <td>22.0</td>\n",
       "      <td>1</td>\n",
       "      <td>71.0</td>\n",
       "      <td>7.0</td>\n",
       "      <td>0.6</td>\n",
       "      <td>8.0</td>\n",
       "      <td>0.0</td>\n",
       "      <td>21.8</td>\n",
       "      <td>44.0</td>\n",
       "      <td>1007.7</td>\n",
       "      <td>22.9</td>\n",
       "      <td>1007.1</td>\n",
       "      <td>13.4</td>\n",
       "      <td>20.0</td>\n",
       "      <td>4.0</td>\n",
       "      <td>24.0</td>\n",
       "      <td>13</td>\n",
       "      <td>13</td>\n",
       "      <td>16.9</td>\n",
       "    </tr>\n",
       "    <tr>\n",
       "      <th>1</th>\n",
       "      <td>25.0</td>\n",
       "      <td>1</td>\n",
       "      <td>44.0</td>\n",
       "      <td>7.0</td>\n",
       "      <td>0.0</td>\n",
       "      <td>7.0</td>\n",
       "      <td>0.0</td>\n",
       "      <td>24.3</td>\n",
       "      <td>44.0</td>\n",
       "      <td>1010.6</td>\n",
       "      <td>25.1</td>\n",
       "      <td>1007.8</td>\n",
       "      <td>7.4</td>\n",
       "      <td>4.0</td>\n",
       "      <td>4.0</td>\n",
       "      <td>22.0</td>\n",
       "      <td>14</td>\n",
       "      <td>6</td>\n",
       "      <td>17.2</td>\n",
       "    </tr>\n",
       "    <tr>\n",
       "      <th>2</th>\n",
       "      <td>30.0</td>\n",
       "      <td>1</td>\n",
       "      <td>38.0</td>\n",
       "      <td>2.0</td>\n",
       "      <td>0.0</td>\n",
       "      <td>7.0</td>\n",
       "      <td>0.0</td>\n",
       "      <td>23.2</td>\n",
       "      <td>46.0</td>\n",
       "      <td>1007.6</td>\n",
       "      <td>25.7</td>\n",
       "      <td>1008.7</td>\n",
       "      <td>12.9</td>\n",
       "      <td>19.0</td>\n",
       "      <td>4.0</td>\n",
       "      <td>26.0</td>\n",
       "      <td>15</td>\n",
       "      <td>13</td>\n",
       "      <td>21.0</td>\n",
       "    </tr>\n",
       "    <tr>\n",
       "      <th>3</th>\n",
       "      <td>16.0</td>\n",
       "      <td>1</td>\n",
       "      <td>45.0</td>\n",
       "      <td>7.0</td>\n",
       "      <td>0.0</td>\n",
       "      <td>7.0</td>\n",
       "      <td>0.0</td>\n",
       "      <td>26.5</td>\n",
       "      <td>24.0</td>\n",
       "      <td>1017.6</td>\n",
       "      <td>28.0</td>\n",
       "      <td>1012.8</td>\n",
       "      <td>9.2</td>\n",
       "      <td>11.0</td>\n",
       "      <td>4.0</td>\n",
       "      <td>9.0</td>\n",
       "      <td>4</td>\n",
       "      <td>9</td>\n",
       "      <td>18.1</td>\n",
       "    </tr>\n",
       "    <tr>\n",
       "      <th>4</th>\n",
       "      <td>33.0</td>\n",
       "      <td>1</td>\n",
       "      <td>82.0</td>\n",
       "      <td>8.0</td>\n",
       "      <td>1.0</td>\n",
       "      <td>7.0</td>\n",
       "      <td>0.0</td>\n",
       "      <td>29.7</td>\n",
       "      <td>41.0</td>\n",
       "      <td>1010.8</td>\n",
       "      <td>32.3</td>\n",
       "      <td>1006.0</td>\n",
       "      <td>17.5</td>\n",
       "      <td>7.0</td>\n",
       "      <td>4.0</td>\n",
       "      <td>20.0</td>\n",
       "      <td>13</td>\n",
       "      <td>1</td>\n",
       "      <td>17.8</td>\n",
       "    </tr>\n",
       "    <tr>\n",
       "      <th>...</th>\n",
       "      <td>...</td>\n",
       "      <td>...</td>\n",
       "      <td>...</td>\n",
       "      <td>...</td>\n",
       "      <td>...</td>\n",
       "      <td>...</td>\n",
       "      <td>...</td>\n",
       "      <td>...</td>\n",
       "      <td>...</td>\n",
       "      <td>...</td>\n",
       "      <td>...</td>\n",
       "      <td>...</td>\n",
       "      <td>...</td>\n",
       "      <td>...</td>\n",
       "      <td>...</td>\n",
       "      <td>...</td>\n",
       "      <td>...</td>\n",
       "      <td>...</td>\n",
       "      <td>...</td>\n",
       "    </tr>\n",
       "    <tr>\n",
       "      <th>8420</th>\n",
       "      <td>24.0</td>\n",
       "      <td>1</td>\n",
       "      <td>51.0</td>\n",
       "      <td>7.0</td>\n",
       "      <td>0.0</td>\n",
       "      <td>7.0</td>\n",
       "      <td>0.0</td>\n",
       "      <td>22.4</td>\n",
       "      <td>31.0</td>\n",
       "      <td>1024.6</td>\n",
       "      <td>23.4</td>\n",
       "      <td>1020.3</td>\n",
       "      <td>2.8</td>\n",
       "      <td>13.0</td>\n",
       "      <td>4.0</td>\n",
       "      <td>11.0</td>\n",
       "      <td>0</td>\n",
       "      <td>9</td>\n",
       "      <td>10.1</td>\n",
       "    </tr>\n",
       "    <tr>\n",
       "      <th>8421</th>\n",
       "      <td>21.0</td>\n",
       "      <td>1</td>\n",
       "      <td>56.0</td>\n",
       "      <td>7.0</td>\n",
       "      <td>0.0</td>\n",
       "      <td>7.0</td>\n",
       "      <td>0.0</td>\n",
       "      <td>24.5</td>\n",
       "      <td>22.0</td>\n",
       "      <td>1023.5</td>\n",
       "      <td>25.3</td>\n",
       "      <td>1019.1</td>\n",
       "      <td>3.6</td>\n",
       "      <td>13.0</td>\n",
       "      <td>4.0</td>\n",
       "      <td>9.0</td>\n",
       "      <td>6</td>\n",
       "      <td>9</td>\n",
       "      <td>10.9</td>\n",
       "    </tr>\n",
       "    <tr>\n",
       "      <th>8422</th>\n",
       "      <td>24.0</td>\n",
       "      <td>1</td>\n",
       "      <td>53.0</td>\n",
       "      <td>7.0</td>\n",
       "      <td>0.0</td>\n",
       "      <td>7.0</td>\n",
       "      <td>0.0</td>\n",
       "      <td>26.1</td>\n",
       "      <td>37.0</td>\n",
       "      <td>1021.0</td>\n",
       "      <td>26.9</td>\n",
       "      <td>1016.8</td>\n",
       "      <td>5.4</td>\n",
       "      <td>9.0</td>\n",
       "      <td>4.0</td>\n",
       "      <td>9.0</td>\n",
       "      <td>3</td>\n",
       "      <td>9</td>\n",
       "      <td>12.5</td>\n",
       "    </tr>\n",
       "    <tr>\n",
       "      <th>8423</th>\n",
       "      <td>24.0</td>\n",
       "      <td>1</td>\n",
       "      <td>51.0</td>\n",
       "      <td>2.0</td>\n",
       "      <td>0.0</td>\n",
       "      <td>3.0</td>\n",
       "      <td>0.0</td>\n",
       "      <td>26.0</td>\n",
       "      <td>28.0</td>\n",
       "      <td>1019.4</td>\n",
       "      <td>27.0</td>\n",
       "      <td>1016.5</td>\n",
       "      <td>7.8</td>\n",
       "      <td>13.0</td>\n",
       "      <td>4.0</td>\n",
       "      <td>7.0</td>\n",
       "      <td>9</td>\n",
       "      <td>10</td>\n",
       "      <td>15.1</td>\n",
       "    </tr>\n",
       "    <tr>\n",
       "      <th>8424</th>\n",
       "      <td>36.0</td>\n",
       "      <td>1</td>\n",
       "      <td>62.0</td>\n",
       "      <td>8.0</td>\n",
       "      <td>0.0</td>\n",
       "      <td>8.0</td>\n",
       "      <td>0.0</td>\n",
       "      <td>20.9</td>\n",
       "      <td>39.0</td>\n",
       "      <td>1020.2</td>\n",
       "      <td>19.0</td>\n",
       "      <td>1017.9</td>\n",
       "      <td>14.9</td>\n",
       "      <td>17.0</td>\n",
       "      <td>4.0</td>\n",
       "      <td>17.0</td>\n",
       "      <td>3</td>\n",
       "      <td>2</td>\n",
       "      <td>15.0</td>\n",
       "    </tr>\n",
       "  </tbody>\n",
       "</table>\n",
       "<p>8425 rows × 19 columns</p>\n",
       "</div>"
      ],
      "text/plain": [
       "      Humidity3pm  RainToday  Humidity9am  Cloud3pm  Rainfall  Cloud9am  \\\n",
       "0            22.0          1         71.0       7.0       0.6       8.0   \n",
       "1            25.0          1         44.0       7.0       0.0       7.0   \n",
       "2            30.0          1         38.0       2.0       0.0       7.0   \n",
       "3            16.0          1         45.0       7.0       0.0       7.0   \n",
       "4            33.0          1         82.0       8.0       1.0       7.0   \n",
       "...           ...        ...          ...       ...       ...       ...   \n",
       "8420         24.0          1         51.0       7.0       0.0       7.0   \n",
       "8421         21.0          1         56.0       7.0       0.0       7.0   \n",
       "8422         24.0          1         53.0       7.0       0.0       7.0   \n",
       "8423         24.0          1         51.0       2.0       0.0       3.0   \n",
       "8424         36.0          1         62.0       8.0       0.0       8.0   \n",
       "\n",
       "      Sunshine  Temp3pm  WindGustSpeed  Pressure9am  MaxTemp  Pressure3pm  \\\n",
       "0          0.0     21.8           44.0       1007.7     22.9       1007.1   \n",
       "1          0.0     24.3           44.0       1010.6     25.1       1007.8   \n",
       "2          0.0     23.2           46.0       1007.6     25.7       1008.7   \n",
       "3          0.0     26.5           24.0       1017.6     28.0       1012.8   \n",
       "4          0.0     29.7           41.0       1010.8     32.3       1006.0   \n",
       "...        ...      ...            ...          ...      ...          ...   \n",
       "8420       0.0     22.4           31.0       1024.6     23.4       1020.3   \n",
       "8421       0.0     24.5           22.0       1023.5     25.3       1019.1   \n",
       "8422       0.0     26.1           37.0       1021.0     26.9       1016.8   \n",
       "8423       0.0     26.0           28.0       1019.4     27.0       1016.5   \n",
       "8424       0.0     20.9           39.0       1020.2     19.0       1017.9   \n",
       "\n",
       "      MinTemp  WindSpeed9am  Evaporation  WindSpeed3pm  WindGustDir  \\\n",
       "0        13.4          20.0          4.0          24.0           13   \n",
       "1         7.4           4.0          4.0          22.0           14   \n",
       "2        12.9          19.0          4.0          26.0           15   \n",
       "3         9.2          11.0          4.0           9.0            4   \n",
       "4        17.5           7.0          4.0          20.0           13   \n",
       "...       ...           ...          ...           ...          ...   \n",
       "8420      2.8          13.0          4.0          11.0            0   \n",
       "8421      3.6          13.0          4.0           9.0            6   \n",
       "8422      5.4           9.0          4.0           9.0            3   \n",
       "8423      7.8          13.0          4.0           7.0            9   \n",
       "8424     14.9          17.0          4.0          17.0            3   \n",
       "\n",
       "      WindDir9am  Temp9am  \n",
       "0             13     16.9  \n",
       "1              6     17.2  \n",
       "2             13     21.0  \n",
       "3              9     18.1  \n",
       "4              1     17.8  \n",
       "...          ...      ...  \n",
       "8420           9     10.1  \n",
       "8421           9     10.9  \n",
       "8422           9     12.5  \n",
       "8423          10     15.1  \n",
       "8424           2     15.0  \n",
       "\n",
       "[8425 rows x 19 columns]"
      ]
     },
     "execution_count": 28,
     "metadata": {},
     "output_type": "execute_result"
    }
   ],
   "source": [
    "new_x"
   ]
  },
  {
   "cell_type": "code",
   "execution_count": 29,
   "id": "2d7b793b",
   "metadata": {},
   "outputs": [],
   "source": [
    "scaler=StandardScaler()\n",
    "x_scaler=scaler.fit_transform(new_x)"
   ]
  },
  {
   "cell_type": "code",
   "execution_count": 30,
   "id": "b50f0229",
   "metadata": {},
   "outputs": [],
   "source": [
    "x_train,x_test,y_test,y_train=train_test_split(x_scaler,y,test_size=0.25,random_state=355)"
   ]
  },
  {
   "cell_type": "code",
   "execution_count": 31,
   "id": "6ed2f1e6",
   "metadata": {},
   "outputs": [],
   "source": [
    "knn=KNeighborsClassifier()"
   ]
  },
  {
   "cell_type": "code",
   "execution_count": null,
   "id": "cb7ecd91",
   "metadata": {},
   "outputs": [],
   "source": []
  }
 ],
 "metadata": {
  "kernelspec": {
   "display_name": "Python 3",
   "language": "python",
   "name": "python3"
  },
  "language_info": {
   "codemirror_mode": {
    "name": "ipython",
    "version": 3
   },
   "file_extension": ".py",
   "mimetype": "text/x-python",
   "name": "python",
   "nbconvert_exporter": "python",
   "pygments_lexer": "ipython3",
   "version": "3.8.8"
  }
 },
 "nbformat": 4,
 "nbformat_minor": 5
}
